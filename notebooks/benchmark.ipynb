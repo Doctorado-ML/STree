{
 "cells": [
  {
   "cell_type": "markdown",
   "metadata": {},
   "source": [
    "# Compare STree with different estimators"
   ]
  },
  {
   "cell_type": "markdown",
   "metadata": {},
   "source": [
    "# Setup\n",
    "Uncomment the next cell if STree is not already installed"
   ]
  },
  {
   "cell_type": "code",
   "execution_count": 1,
   "metadata": {},
   "outputs": [],
   "source": [
    "#\n",
    "# Google Colab setup\n",
    "#\n",
    "#!pip install git+https://github.com/doctorado-ml/stree"
   ]
  },
  {
   "cell_type": "code",
   "execution_count": 2,
   "metadata": {},
   "outputs": [],
   "source": [
    "import datetime, time\n",
    "import numpy as np\n",
    "import pandas as pd\n",
    "from sklearn.model_selection import train_test_split\n",
    "from sklearn.metrics import classification_report, confusion_matrix, f1_score\n",
    "from sklearn.tree import DecisionTreeClassifier\n",
    "from sklearn.naive_bayes import GaussianNB\n",
    "from sklearn.neural_network import MLPClassifier\n",
    "from sklearn.svm import LinearSVC\n",
    "from stree import Stree"
   ]
  },
  {
   "cell_type": "code",
   "execution_count": 3,
   "metadata": {},
   "outputs": [],
   "source": [
    "import os\n",
    "if not os.path.isfile('data/creditcard.csv'):\n",
    "    !wget --no-check-certificate --content-disposition http://nube.jccm.es/index.php/s/Zs7SYtZQJ3RQ2H2/download\n",
    "    !tar xzf creditcard.tgz"
   ]
  },
  {
   "cell_type": "markdown",
   "metadata": {},
   "source": [
    "# Tests"
   ]
  },
  {
   "cell_type": "code",
   "execution_count": 4,
   "metadata": {
    "tags": []
   },
   "outputs": [
    {
     "name": "stdout",
     "output_type": "stream",
     "text": [
      "2021-01-14 11:30:51\n"
     ]
    }
   ],
   "source": [
    "print(datetime.date.today(), time.strftime(\"%H:%M:%S\"))"
   ]
  },
  {
   "cell_type": "markdown",
   "metadata": {},
   "source": [
    "## Load dataset and normalize values"
   ]
  },
  {
   "cell_type": "code",
   "execution_count": 5,
   "metadata": {},
   "outputs": [],
   "source": [
    "# Load Dataset\n",
    "df = pd.read_csv('data/creditcard.csv')\n",
    "df.shape\n",
    "random_state = 2020"
   ]
  },
  {
   "cell_type": "code",
   "execution_count": 6,
   "metadata": {
    "tags": []
   },
   "outputs": [
    {
     "name": "stdout",
     "output_type": "stream",
     "text": [
      "Fraud: 0.173% 492\n",
      "Valid: 99.827% 284,315\n"
     ]
    }
   ],
   "source": [
    "print(\"Fraud: {0:.3f}% {1}\".format(df.Class[df.Class == 1].count()*100/df.shape[0], df.Class[df.Class == 1].count()))\n",
    "print(\"Valid: {0:.3f}% {1:,}\".format(df.Class[df.Class == 0].count()*100/df.shape[0], df.Class[df.Class == 0].count()))"
   ]
  },
  {
   "cell_type": "code",
   "execution_count": 7,
   "metadata": {},
   "outputs": [],
   "source": [
    "# Normalize Amount\n",
    "from sklearn.preprocessing import RobustScaler\n",
    "values = RobustScaler().fit_transform(df.Amount.values.reshape(-1, 1))\n",
    "df['Amount_Scaled'] = values"
   ]
  },
  {
   "cell_type": "code",
   "execution_count": 8,
   "metadata": {
    "tags": []
   },
   "outputs": [
    {
     "name": "stdout",
     "output_type": "stream",
     "text": [
      "X shape: (284807, 29)\n",
      "y shape: (284807,)\n"
     ]
    }
   ],
   "source": [
    "# Remove unneeded features\n",
    "y = df.Class.values\n",
    "X = df.drop(['Class', 'Time', 'Amount'], axis=1).values\n",
    "print(f\"X shape: {X.shape}\\ny shape: {y.shape}\")"
   ]
  },
  {
   "cell_type": "markdown",
   "metadata": {},
   "source": [
    "## Build the models"
   ]
  },
  {
   "cell_type": "code",
   "execution_count": 9,
   "metadata": {},
   "outputs": [],
   "source": [
    "# Divide dataset\n",
    "train_size = .7\n",
    "Xtrain, Xtest, ytrain, ytest = train_test_split(X, y, train_size=train_size, shuffle=True, random_state=random_state, stratify=y)"
   ]
  },
  {
   "cell_type": "code",
   "execution_count": 10,
   "metadata": {},
   "outputs": [],
   "source": [
    "# Linear Tree\n",
    "linear_tree = DecisionTreeClassifier(random_state=random_state)"
   ]
  },
  {
   "cell_type": "code",
   "execution_count": 11,
   "metadata": {},
   "outputs": [],
   "source": [
    "# Naive Bayes\n",
    "naive_bayes = GaussianNB()"
   ]
  },
  {
   "cell_type": "code",
   "execution_count": 12,
   "metadata": {},
   "outputs": [],
   "source": [
    "# Stree\n",
    "stree = Stree(random_state=random_state, C=.01, max_iter=1e3)"
   ]
  },
  {
   "cell_type": "code",
   "execution_count": 13,
   "metadata": {},
   "outputs": [],
   "source": [
    "# Neural Network\n",
    "mlp = MLPClassifier(random_state=random_state, alpha=1)"
   ]
  },
  {
   "cell_type": "code",
   "execution_count": 14,
   "metadata": {},
   "outputs": [],
   "source": [
    "# SVC (linear)\n",
    "svc = LinearSVC(random_state=random_state, C=.01, max_iter=1e3)"
   ]
  },
  {
   "cell_type": "markdown",
   "metadata": {},
   "source": [
    "## Do the test"
   ]
  },
  {
   "cell_type": "code",
   "execution_count": 15,
   "metadata": {},
   "outputs": [],
   "source": [
    "def try_model(name, model):\n",
    "    print(f\"************************** {name} **********************\")\n",
    "    now = time.time()\n",
    "    model.fit(Xtrain, ytrain)\n",
    "    spent = time.time() - now\n",
    "    print(f\"Train Model {name} took: {spent:.4} seconds\")\n",
    "    predict = model.predict(Xtrain)\n",
    "    predictt = model.predict(Xtest)\n",
    "    print(f\"=========== {name} - Train {Xtrain.shape[0]:,} samples =============\",)\n",
    "    print(classification_report(ytrain, predict, digits=6))\n",
    "    print(f\"=========== {name} - Test {Xtest.shape[0]:,} samples =============\")\n",
    "    print(classification_report(ytest, predictt, digits=6))\n",
    "    print(\"Confusion Matrix in Train\")\n",
    "    print(confusion_matrix(ytrain, predict))\n",
    "    print(\"Confusion Matrix in Test\")\n",
    "    print(confusion_matrix(ytest, predictt))\n",
    "    return f1_score(ytest, predictt), spent"
   ]
  },
  {
   "cell_type": "code",
   "execution_count": 16,
   "metadata": {
    "tags": []
   },
   "outputs": [
    {
     "name": "stdout",
     "output_type": "stream",
     "text": [
      "************************** Linear Tree **********************\n",
      "Train Model Linear Tree took: 10.25 seconds\n",
      "=========== Linear Tree - Train 199,364 samples =============\n",
      "              precision    recall  f1-score   support\n",
      "\n",
      "           0   1.000000  1.000000  1.000000    199020\n",
      "           1   1.000000  1.000000  1.000000       344\n",
      "\n",
      "    accuracy                       1.000000    199364\n",
      "   macro avg   1.000000  1.000000  1.000000    199364\n",
      "weighted avg   1.000000  1.000000  1.000000    199364\n",
      "\n",
      "=========== Linear Tree - Test 85,443 samples =============\n",
      "              precision    recall  f1-score   support\n",
      "\n",
      "           0   0.999578  0.999613  0.999596     85295\n",
      "           1   0.772414  0.756757  0.764505       148\n",
      "\n",
      "    accuracy                       0.999192     85443\n",
      "   macro avg   0.885996  0.878185  0.882050     85443\n",
      "weighted avg   0.999184  0.999192  0.999188     85443\n",
      "\n",
      "Confusion Matrix in Train\n",
      "[[199020      0]\n",
      " [     0    344]]\n",
      "Confusion Matrix in Test\n",
      "[[85262    33]\n",
      " [   36   112]]\n",
      "************************** Naive Bayes **********************\n",
      "Train Model Naive Bayes took: 0.09943 seconds\n",
      "=========== Naive Bayes - Train 199,364 samples =============\n",
      "              precision    recall  f1-score   support\n",
      "\n",
      "           0   0.999692  0.978238  0.988849    199020\n",
      "           1   0.061538  0.825581  0.114539       344\n",
      "\n",
      "    accuracy                       0.977975    199364\n",
      "   macro avg   0.530615  0.901910  0.551694    199364\n",
      "weighted avg   0.998073  0.977975  0.987340    199364\n",
      "\n",
      "=========== Naive Bayes - Test 85,443 samples =============\n",
      "              precision    recall  f1-score   support\n",
      "\n",
      "           0   0.999712  0.977994  0.988734     85295\n",
      "           1   0.061969  0.837838  0.115403       148\n",
      "\n",
      "    accuracy                       0.977751     85443\n",
      "   macro avg   0.530841  0.907916  0.552068     85443\n",
      "weighted avg   0.998088  0.977751  0.987221     85443\n",
      "\n",
      "Confusion Matrix in Train\n",
      "[[194689   4331]\n",
      " [    60    284]]\n",
      "Confusion Matrix in Test\n",
      "[[83418  1877]\n",
      " [   24   124]]\n",
      "************************** Stree (SVM Tree) **********************\n"
     ]
    },
    {
     "name": "stderr",
     "output_type": "stream",
     "text": [
      "/Users/rmontanana/.virtualenvs/general/lib/python3.8/site-packages/sklearn/svm/_base.py:976: ConvergenceWarning: Liblinear failed to converge, increase the number of iterations.\n",
      "  warnings.warn(\"Liblinear failed to converge, increase \"\n",
      "/Users/rmontanana/.virtualenvs/general/lib/python3.8/site-packages/sklearn/svm/_base.py:976: ConvergenceWarning: Liblinear failed to converge, increase the number of iterations.\n",
      "  warnings.warn(\"Liblinear failed to converge, increase \"\n",
      "/Users/rmontanana/.virtualenvs/general/lib/python3.8/site-packages/sklearn/svm/_base.py:976: ConvergenceWarning: Liblinear failed to converge, increase the number of iterations.\n",
      "  warnings.warn(\"Liblinear failed to converge, increase \"\n"
     ]
    },
    {
     "name": "stdout",
     "output_type": "stream",
     "text": [
      "Train Model Stree (SVM Tree) took: 28.47 seconds\n",
      "=========== Stree (SVM Tree) - Train 199,364 samples =============\n",
      "              precision    recall  f1-score   support\n",
      "\n",
      "           0   0.999623  0.999864  0.999744    199020\n",
      "           1   0.908784  0.781977  0.840625       344\n",
      "\n",
      "    accuracy                       0.999488    199364\n",
      "   macro avg   0.954204  0.890921  0.920184    199364\n",
      "weighted avg   0.999467  0.999488  0.999469    199364\n",
      "\n",
      "=========== Stree (SVM Tree) - Test 85,443 samples =============\n",
      "              precision    recall  f1-score   support\n",
      "\n",
      "           0   0.999637  0.999918  0.999777     85295\n",
      "           1   0.943548  0.790541  0.860294       148\n",
      "\n",
      "    accuracy                       0.999555     85443\n",
      "   macro avg   0.971593  0.895229  0.930036     85443\n",
      "weighted avg   0.999540  0.999555  0.999536     85443\n",
      "\n",
      "Confusion Matrix in Train\n",
      "[[198993     27]\n",
      " [    75    269]]\n",
      "Confusion Matrix in Test\n",
      "[[85288     7]\n",
      " [   31   117]]\n",
      "************************** Neural Network **********************\n",
      "Train Model Neural Network took: 9.76 seconds\n",
      "=========== Neural Network - Train 199,364 samples =============\n",
      "              precision    recall  f1-score   support\n",
      "\n",
      "           0   0.999247  0.999844  0.999545    199020\n",
      "           1   0.862222  0.563953  0.681898       344\n",
      "\n",
      "    accuracy                       0.999092    199364\n",
      "   macro avg   0.930734  0.781899  0.840722    199364\n",
      "weighted avg   0.999010  0.999092  0.998997    199364\n",
      "\n",
      "=========== Neural Network - Test 85,443 samples =============\n",
      "              precision    recall  f1-score   support\n",
      "\n",
      "           0   0.999356  0.999871  0.999613     85295\n",
      "           1   0.894231  0.628378  0.738095       148\n",
      "\n",
      "    accuracy                       0.999228     85443\n",
      "   macro avg   0.946793  0.814125  0.868854     85443\n",
      "weighted avg   0.999173  0.999228  0.999160     85443\n",
      "\n",
      "Confusion Matrix in Train\n",
      "[[198989     31]\n",
      " [   150    194]]\n",
      "Confusion Matrix in Test\n",
      "[[85284    11]\n",
      " [   55    93]]\n",
      "************************** SVC (linear) **********************\n"
     ]
    },
    {
     "name": "stderr",
     "output_type": "stream",
     "text": [
      "/Users/rmontanana/.virtualenvs/general/lib/python3.8/site-packages/sklearn/svm/_base.py:976: ConvergenceWarning: Liblinear failed to converge, increase the number of iterations.\n",
      "  warnings.warn(\"Liblinear failed to converge, increase \"\n"
     ]
    },
    {
     "name": "stdout",
     "output_type": "stream",
     "text": [
      "Train Model SVC (linear) took: 8.207 seconds\n",
      "=========== SVC (linear) - Train 199,364 samples =============\n",
      "              precision    recall  f1-score   support\n",
      "\n",
      "           0   0.999237  0.999859  0.999548    199020\n",
      "           1   0.872727  0.558140  0.680851       344\n",
      "\n",
      "    accuracy                       0.999097    199364\n",
      "   macro avg   0.935982  0.778999  0.840199    199364\n",
      "weighted avg   0.999018  0.999097  0.998998    199364\n",
      "\n",
      "=========== SVC (linear) - Test 85,443 samples =============\n",
      "              precision    recall  f1-score   support\n",
      "\n",
      "           0   0.999344  0.999894  0.999619     85295\n",
      "           1   0.910891  0.621622  0.738956       148\n",
      "\n",
      "    accuracy                       0.999239     85443\n",
      "   macro avg   0.955117  0.810758  0.869287     85443\n",
      "weighted avg   0.999191  0.999239  0.999168     85443\n",
      "\n",
      "Confusion Matrix in Train\n",
      "[[198992     28]\n",
      " [   152    192]]\n",
      "Confusion Matrix in Test\n",
      "[[85286     9]\n",
      " [   56    92]]\n"
     ]
    }
   ],
   "source": [
    "# Train & Test models\n",
    "models = {\n",
    "    'Linear Tree':linear_tree, 'Naive Bayes': naive_bayes, 'Stree (SVM Tree)': stree,  \n",
    "    'Neural Network': mlp, 'SVC (linear)': svc\n",
    "}\n",
    "\n",
    "best_f1 = 0\n",
    "outcomes = []\n",
    "for name, model in models.items():\n",
    "    f1, time_spent = try_model(name, model)\n",
    "    outcomes.append((name, f1, time_spent))\n",
    "    if f1 > best_f1:\n",
    "        best_model = name\n",
    "        best_time = time_spent\n",
    "        best_f1 = f1"
   ]
  },
  {
   "cell_type": "code",
   "execution_count": 17,
   "metadata": {
    "tags": []
   },
   "outputs": [
    {
     "name": "stdout",
     "output_type": "stream",
     "text": [
      "**************************************************************************************************************\n",
      "*The best f1 model is Stree (SVM Tree), with a f1 score: 0.8603 in 28.4743 seconds with 0.7 samples in train dataset\n",
      "**************************************************************************************************************\n",
      "Model: Linear Tree\t Time:  10.25 seconds\t f1: 0.7645\n",
      "Model: Naive Bayes\t Time:   0.10 seconds\t f1: 0.1154\n",
      "Model: Stree (SVM Tree)\t Time:  28.47 seconds\t f1: 0.8603\n",
      "Model: Neural Network\t Time:   9.76 seconds\t f1: 0.7381\n",
      "Model: SVC (linear)\t Time:   8.21 seconds\t f1: 0.739\n"
     ]
    }
   ],
   "source": [
    "print(\"*\"*110)\n",
    "print(f\"*The best f1 model is {best_model}, with a f1 score: {best_f1:.4} in {best_time:.6} seconds with {train_size:,} samples in train dataset\")\n",
    "print(\"*\"*110)\n",
    "for name, f1, time_spent in outcomes:\n",
    "    print(f\"Model: {name}\\t Time: {time_spent:6.2f} seconds\\t f1: {f1:.4}\")"
   ]
  },
  {
   "cell_type": "raw",
   "metadata": {},
   "source": [
    "**************************************************************************************************************\n",
    "*The best f1 model is Stree (SVM Tree), with a f1 score: 0.8603 in 28.4743 seconds with 0.7 samples in train dataset\n",
    "**************************************************************************************************************\n",
    "Model: Linear Tree\t Time:  10.25 seconds\t f1: 0.7645\n",
    "Model: Naive Bayes\t Time:   0.10 seconds\t f1: 0.1154\n",
    "Model: Stree (SVM Tree)\t Time:  28.47 seconds\t f1: 0.8603\n",
    "Model: Neural Network\t Time:   9.76 seconds\t f1: 0.7381\n",
    "Model: SVC (linear)\t Time:   8.21 seconds\t f1: 0.739"
   ]
  },
  {
   "cell_type": "code",
   "execution_count": 18,
   "metadata": {},
   "outputs": [
    {
     "data": {
      "text/plain": [
       "{'C': 0.01,\n",
       " 'criterion': 'entropy',\n",
       " 'degree': 3,\n",
       " 'gamma': 'scale',\n",
       " 'kernel': 'linear',\n",
       " 'max_depth': None,\n",
       " 'max_features': None,\n",
       " 'max_iter': 1000.0,\n",
       " 'min_samples_split': 0,\n",
       " 'random_state': 2020,\n",
       " 'split_criteria': 'impurity',\n",
       " 'splitter': 'random',\n",
       " 'tol': 0.0001}"
      ]
     },
     "execution_count": 18,
     "metadata": {},
     "output_type": "execute_result"
    }
   ],
   "source": [
    "stree.get_params()"
   ]
  }
 ],
 "metadata": {
  "hide_input": false,
  "kernelspec": {
   "display_name": "Python 3",
   "language": "python",
   "name": "python3"
  },
  "language_info": {
   "codemirror_mode": {
    "name": "ipython",
    "version": 3
   },
   "file_extension": ".py",
   "mimetype": "text/x-python",
   "name": "python",
   "nbconvert_exporter": "python",
   "pygments_lexer": "ipython3",
   "version": "3.8.2"
  },
  "toc": {
   "base_numbering": 1,
   "nav_menu": {},
   "number_sections": true,
   "sideBar": true,
   "skip_h1_title": false,
   "title_cell": "Table of Contents",
   "title_sidebar": "Contents",
   "toc_cell": false,
   "toc_position": {},
   "toc_section_display": true,
   "toc_window_display": false
  },
  "varInspector": {
   "cols": {
    "lenName": 16,
    "lenType": 16,
    "lenVar": 40
   },
   "kernels_config": {
    "python": {
     "delete_cmd_postfix": "",
     "delete_cmd_prefix": "del ",
     "library": "var_list.py",
     "varRefreshCmd": "print(var_dic_list())"
    },
    "r": {
     "delete_cmd_postfix": ") ",
     "delete_cmd_prefix": "rm(",
     "library": "var_list.r",
     "varRefreshCmd": "cat(var_dic_list()) "
    }
   },
   "position": {
    "height": "392px",
    "left": "1518px",
    "right": "20px",
    "top": "40px",
    "width": "392px"
   },
   "types_to_exclude": [
    "module",
    "function",
    "builtin_function_or_method",
    "instance",
    "_Feature"
   ],
   "window_display": true
  }
 },
 "nbformat": 4,
 "nbformat_minor": 4
}
