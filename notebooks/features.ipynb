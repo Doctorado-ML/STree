{
 "cells": [
  {
   "cell_type": "markdown",
   "metadata": {},
   "source": [
    "# Test sample_weight, kernels, C, sklearn estimator"
   ]
  },
  {
   "cell_type": "markdown",
   "metadata": {},
   "source": [
    "# Setup\n",
    "Uncomment the next cell if STree is not already installed"
   ]
  },
  {
   "cell_type": "code",
   "execution_count": 1,
   "metadata": {},
   "outputs": [],
   "source": [
    "#\n",
    "# Google Colab setup\n",
    "#\n",
    "#!pip install git+https://github.com/doctorado-ml/stree"
   ]
  },
  {
   "cell_type": "code",
   "execution_count": 2,
   "metadata": {},
   "outputs": [],
   "source": [
    "import numpy as np\n",
    "import pandas as pd\n",
    "from sklearn.svm import SVC\n",
    "from sklearn.tree import DecisionTreeClassifier\n",
    "from sklearn.utils.estimator_checks import check_estimator\n",
    "from sklearn.datasets import make_classification, load_iris, load_wine\n",
    "from sklearn.model_selection import train_test_split\n",
    "from stree import Stree\n",
    "import time"
   ]
  },
  {
   "cell_type": "code",
   "execution_count": 3,
   "metadata": {
    "tags": []
   },
   "outputs": [],
   "source": [
    "import os\n",
    "if not os.path.isfile('data/creditcard.csv'):\n",
    "    !wget --no-check-certificate --content-disposition http://nube.jccm.es/index.php/s/Zs7SYtZQJ3RQ2H2/download\n",
    "    !tar xzf creditcard.tgz"
   ]
  },
  {
   "cell_type": "code",
   "execution_count": 4,
   "metadata": {
    "tags": []
   },
   "outputs": [
    {
     "output_type": "stream",
     "name": "stdout",
     "text": "Fraud: 0.173% 492\nValid: 99.827% 284315\nX.shape (5492, 28)  y.shape (5492,)\nFraud: 9.086% 499\nValid: 90.914% 4993\n[0.09157128 0.09157128 0.09157128 0.09157128] [0.08919903 0.08919903 0.08919903 0.08919903]\n"
    }
   ],
   "source": [
    "random_state=1\n",
    "\n",
    "def load_creditcard(n_examples=0):\n",
    "    import pandas as pd\n",
    "    import numpy as np\n",
    "    import random\n",
    "    df = pd.read_csv('data/creditcard.csv')\n",
    "    print(\"Fraud: {0:.3f}% {1}\".format(df.Class[df.Class == 1].count()*100/df.shape[0], df.Class[df.Class == 1].count()))\n",
    "    print(\"Valid: {0:.3f}% {1}\".format(df.Class[df.Class == 0].count()*100/df.shape[0], df.Class[df.Class == 0].count()))\n",
    "    y = df.Class\n",
    "    X = df.drop(['Class', 'Time', 'Amount'], axis=1).values\n",
    "    if n_examples > 0:\n",
    "        # Take first n_examples samples\n",
    "        X = X[:n_examples, :]\n",
    "        y = y[:n_examples, :]\n",
    "    else:\n",
    "        # Take all the positive samples with a number of random negatives\n",
    "        if n_examples < 0:\n",
    "            Xt = X[(y == 1).ravel()]\n",
    "            yt = y[(y == 1).ravel()]\n",
    "            indices = random.sample(range(X.shape[0]), -1 * n_examples)\n",
    "            X = np.append(Xt, X[indices], axis=0)\n",
    "            y = np.append(yt, y[indices], axis=0)\n",
    "    print(\"X.shape\", X.shape, \" y.shape\", y.shape)\n",
    "    print(\"Fraud: {0:.3f}% {1}\".format(len(y[y == 1])*100/X.shape[0], len(y[y == 1])))\n",
    "    print(\"Valid: {0:.3f}% {1}\".format(len(y[y == 0]) * 100 / X.shape[0], len(y[y == 0])))\n",
    "    Xtrain, Xtest, ytrain, ytest = train_test_split(X, y, train_size=0.7, shuffle=True, random_state=random_state)\n",
    "    return Xtrain, Xtest, ytrain, ytest\n",
    "\n",
    "data = load_creditcard(-5000) # Take all true samples with up to 5000 of the others\n",
    "# data = load_creditcard(5000)  # Take the first 5000 samples\n",
    "# data = load_creditcard(-1000) # Take 1000 samples\n",
    "\n",
    "Xtrain = data[0]\n",
    "Xtest = data[1]\n",
    "ytrain = data[2]\n",
    "ytest = data[3]\n",
    "_, data = np.unique(ytrain, return_counts=True)\n",
    "wtrain = (data[1] / np.sum(data),  data[0] / np.sum(data))\n",
    "_, data = np.unique(ytest, return_counts=True)\n",
    "wtest = (data[1] / np.sum(data),  data[0] / np.sum(data))\n",
    "# Set weights inverse to its count class in dataset\n",
    "weights = np.ones(Xtrain.shape[0],)\n",
    "weights[ytrain==0] = wtrain[0]\n",
    "weights[ytrain==1] = wtrain[1]\n",
    "weights_test = np.ones(Xtest.shape[0],)\n",
    "weights_test[ytest==0] = wtest[0]\n",
    "weights_test[ytest==1] = wtest[1]\n",
    "print(weights[:4], weights_test[:4])"
   ]
  },
  {
   "cell_type": "markdown",
   "metadata": {},
   "source": [
    "# Tests"
   ]
  },
  {
   "cell_type": "markdown",
   "metadata": {},
   "source": [
    "## Test sample_weights\n",
    "Compute accuracy with weights in samples. The weights are set based on the inverse of the number of samples of each class"
   ]
  },
  {
   "cell_type": "code",
   "execution_count": 5,
   "metadata": {
    "tags": []
   },
   "outputs": [
    {
     "output_type": "stream",
     "name": "stdout",
     "text": "Accuracy of Train without weights 0.9875130072840791\nAccuracy of Train with    weights 0.9919354838709677\nAccuracy of Tests without weights 0.9866504854368932\nAccuracy of Tests with    weights 0.9872572815533981\n"
    }
   ],
   "source": [
    "C = 23\n",
    "print(\"Accuracy of Train without weights\", Stree(C=C, random_state=1).fit(Xtrain, ytrain).score(Xtrain, ytrain))\n",
    "print(\"Accuracy of Train with    weights\", Stree(C=C, random_state=1).fit(Xtrain, ytrain, sample_weight=weights).score(Xtrain, ytrain))\n",
    "print(\"Accuracy of Tests without weights\", Stree(C=C, random_state=1).fit(Xtrain, ytrain).score(Xtest, ytest))\n",
    "print(\"Accuracy of Tests with    weights\", Stree(C=C, random_state=1).fit(Xtrain, ytrain, sample_weight=weights).score(Xtest, ytest))"
   ]
  },
  {
   "cell_type": "markdown",
   "metadata": {},
   "source": [
    "## Test accuracy with different kernels\n",
    "Compute accuracy on train and test set with default hyperparmeters of every kernel"
   ]
  },
  {
   "cell_type": "code",
   "execution_count": 6,
   "metadata": {
    "tags": []
   },
   "outputs": [
    {
     "output_type": "stream",
     "name": "stdout",
     "text": "Time: 1.45s\tKernel: linear\tAccuracy_train: 0.9854318418314256\tAccuracy_test: 0.9842233009708737\nTime: 0.50s\tKernel: rbf\tAccuracy_train: 0.9940166493236212\tAccuracy_test: 0.9908980582524272\nTime: 0.42s\tKernel: poly\tAccuracy_train: 0.9945369406867846\tAccuracy_test: 0.9872572815533981\n"
    }
   ],
   "source": [
    "random_state=1\n",
    "for kernel in ['linear', 'rbf', 'poly']:\n",
    "    now = time.time()\n",
    "    clf = Stree(C=7, kernel=kernel, random_state=random_state).fit(Xtrain, ytrain)\n",
    "    accuracy_train = clf.score(Xtrain, ytrain)\n",
    "    accuracy_test = clf.score(Xtest, ytest)\n",
    "    time_spent = time.time() - now\n",
    "    print(f\"Time: {time_spent:.2f}s\\tKernel: {kernel}\\tAccuracy_train: {accuracy_train}\\tAccuracy_test: {accuracy_test}\")\n"
   ]
  },
  {
   "cell_type": "markdown",
   "metadata": {},
   "source": [
    "## Test diferent values of C"
   ]
  },
  {
   "cell_type": "code",
   "execution_count": 7,
   "metadata": {
    "tags": []
   },
   "outputs": [
    {
     "output_type": "stream",
     "name": "stdout",
     "text": "************** C=0.001 ****************************\nClassifier's accuracy (train): 0.9826\nClassifier's accuracy (test) : 0.9854\nroot feaures=(0, 1, 2, 3, 4, 5, 6, 7, 8, 9, 10, 11, 12, 13, 14, 15, 16, 17, 18, 19, 20, 21, 22, 23, 24, 25, 26, 27) impurity=0.1664\nroot - Down, <cgaf> - Leaf class=1 belief= 0.986348 impurity=0.0269 counts=(array([0, 1]), array([  4, 289]))\nroot - Up, <cgaf> - Leaf class=0 belief= 0.982259 impurity=0.0349 counts=(array([0, 1]), array([3488,   63]))\n\n**************************************************\n************** C=0.01 ****************************\nClassifier's accuracy (train): 0.9826\nClassifier's accuracy (test) : 0.9860\nroot feaures=(0, 1, 2, 3, 4, 5, 6, 7, 8, 9, 10, 11, 12, 13, 14, 15, 16, 17, 18, 19, 20, 21, 22, 23, 24, 25, 26, 27) impurity=0.1664\nroot - Down, <cgaf> - Leaf class=1 belief= 0.986348 impurity=0.0269 counts=(array([0, 1]), array([  4, 289]))\nroot - Up, <cgaf> - Leaf class=0 belief= 0.982259 impurity=0.0349 counts=(array([0, 1]), array([3488,   63]))\n\n**************************************************\n************** C=1 ****************************\nClassifier's accuracy (train): 0.9841\nClassifier's accuracy (test) : 0.9848\nroot feaures=(0, 1, 2, 3, 4, 5, 6, 7, 8, 9, 10, 11, 12, 13, 14, 15, 16, 17, 18, 19, 20, 21, 22, 23, 24, 25, 26, 27) impurity=0.1664\nroot - Down feaures=(0, 1, 2, 3, 4, 5, 6, 7, 8, 9, 10, 11, 12, 13, 14, 15, 16, 17, 18, 19, 20, 21, 22, 23, 24, 25, 26, 27) impurity=0.0268\nroot - Down - Down, <pure> - Leaf class=1 belief= 1.000000 impurity=0.0000 counts=(array([1]), array([286]))\nroot - Down - Up feaures=(0, 1, 2, 3, 4, 5, 6, 7, 8, 9, 10, 11, 12, 13, 14, 15, 16, 17, 18, 19, 20, 21, 22, 23, 24, 25, 26, 27) impurity=0.4938\nroot - Down - Up - Down, <pure> - Leaf class=1 belief= 1.000000 impurity=0.0000 counts=(array([1]), array([5]))\nroot - Down - Up - Up, <pure> - Leaf class=0 belief= 1.000000 impurity=0.0000 counts=(array([0]), array([4]))\nroot - Up, <cgaf> - Leaf class=0 belief= 0.982812 impurity=0.0338 counts=(array([0, 1]), array([3488,   61]))\n\n**************************************************\n************** C=5 ****************************\nClassifier's accuracy (train): 0.9854\nClassifier's accuracy (test) : 0.9873\nroot feaures=(0, 1, 2, 3, 4, 5, 6, 7, 8, 9, 10, 11, 12, 13, 14, 15, 16, 17, 18, 19, 20, 21, 22, 23, 24, 25, 26, 27) impurity=0.1664\nroot - Down feaures=(0, 1, 2, 3, 4, 5, 6, 7, 8, 9, 10, 11, 12, 13, 14, 15, 16, 17, 18, 19, 20, 21, 22, 23, 24, 25, 26, 27) impurity=0.0199\nroot - Down - Down, <pure> - Leaf class=1 belief= 1.000000 impurity=0.0000 counts=(array([1]), array([295]))\nroot - Down - Up, <pure> - Leaf class=0 belief= 1.000000 impurity=0.0000 counts=(array([0]), array([3]))\nroot - Up feaures=(0, 1, 2, 3, 4, 5, 6, 7, 8, 9, 10, 11, 12, 13, 14, 15, 16, 17, 18, 19, 20, 21, 22, 23, 24, 25, 26, 27) impurity=0.0316\nroot - Up - Down feaures=(0, 1, 2, 3, 4, 5, 6, 7, 8, 9, 10, 11, 12, 13, 14, 15, 16, 17, 18, 19, 20, 21, 22, 23, 24, 25, 26, 27) impurity=0.5000\nroot - Up - Down - Down, <pure> - Leaf class=1 belief= 1.000000 impurity=0.0000 counts=(array([1]), array([1]))\nroot - Up - Down - Up, <pure> - Leaf class=0 belief= 1.000000 impurity=0.0000 counts=(array([0]), array([1]))\nroot - Up - Up, <cgaf> - Leaf class=0 belief= 0.984199 impurity=0.0311 counts=(array([0, 1]), array([3488,   56]))\n\n**************************************************\n************** C=17 ****************************\nClassifier's accuracy (train): 0.9841\nClassifier's accuracy (test) : 0.9836\nroot feaures=(0, 1, 2, 3, 4, 5, 6, 7, 8, 9, 10, 11, 12, 13, 14, 15, 16, 17, 18, 19, 20, 21, 22, 23, 24, 25, 26, 27) impurity=0.1664\nroot - Down feaures=(0, 1, 2, 3, 4, 5, 6, 7, 8, 9, 10, 11, 12, 13, 14, 15, 16, 17, 18, 19, 20, 21, 22, 23, 24, 25, 26, 27) impurity=0.0524\nroot - Down - Down, <pure> - Leaf class=1 belief= 1.000000 impurity=0.0000 counts=(array([1]), array([287]))\nroot - Down - Up feaures=(0, 1, 2, 3, 4, 5, 6, 7, 8, 9, 10, 11, 12, 13, 14, 15, 16, 17, 18, 19, 20, 21, 22, 23, 24, 25, 26, 27) impurity=0.3200\nroot - Down - Up - Down, <pure> - Leaf class=1 belief= 1.000000 impurity=0.0000 counts=(array([1]), array([2]))\nroot - Down - Up - Up, <pure> - Leaf class=0 belief= 1.000000 impurity=0.0000 counts=(array([0]), array([8]))\nroot - Up feaures=(0, 1, 2, 3, 4, 5, 6, 7, 8, 9, 10, 11, 12, 13, 14, 15, 16, 17, 18, 19, 20, 21, 22, 23, 24, 25, 26, 27) impurity=0.0349\nroot - Up - Down feaures=(0, 1, 2, 3, 4, 5, 6, 7, 8, 9, 10, 11, 12, 13, 14, 15, 16, 17, 18, 19, 20, 21, 22, 23, 24, 25, 26, 27) impurity=0.2975\nroot - Up - Down - Down, <pure> - Leaf class=1 belief= 1.000000 impurity=0.0000 counts=(array([1]), array([2]))\nroot - Up - Down - Up, <pure> - Leaf class=0 belief= 1.000000 impurity=0.0000 counts=(array([0]), array([9]))\nroot - Up - Up, <cgaf> - Leaf class=0 belief= 0.982749 impurity=0.0339 counts=(array([0, 1]), array([3475,   61]))\n\n**************************************************\n2.3880 secs\n"
    }
   ],
   "source": [
    "t = time.time()\n",
    "for C in (.001, .01, 1, 5, 17):\n",
    "    clf = Stree(C=C, kernel=\"linear\", random_state=random_state)\n",
    "    clf.fit(Xtrain, ytrain)\n",
    "    print(f\"************** C={C} ****************************\")\n",
    "    print(f\"Classifier's accuracy (train): {clf.score(Xtrain, ytrain):.4f}\")\n",
    "    print(f\"Classifier's accuracy (test) : {clf.score(Xtest, ytest):.4f}\")\n",
    "    print(clf)\n",
    "    print(f\"**************************************************\")\n",
    "print(f\"{time.time() - t:.4f} secs\")"
   ]
  },
  {
   "cell_type": "markdown",
   "metadata": {},
   "source": [
    "## Test iterator\n",
    "Check different weays of using the iterator"
   ]
  },
  {
   "cell_type": "code",
   "execution_count": 8,
   "metadata": {
    "tags": []
   },
   "outputs": [
    {
     "output_type": "stream",
     "name": "stdout",
     "text": "root feaures=(0, 1, 2, 3, 4, 5, 6, 7, 8, 9, 10, 11, 12, 13, 14, 15, 16, 17, 18, 19, 20, 21, 22, 23, 24, 25, 26, 27) impurity=0.1664\nroot - Down feaures=(0, 1, 2, 3, 4, 5, 6, 7, 8, 9, 10, 11, 12, 13, 14, 15, 16, 17, 18, 19, 20, 21, 22, 23, 24, 25, 26, 27) impurity=0.0524\nroot - Down - Down, <pure> - Leaf class=1 belief= 1.000000 impurity=0.0000 counts=(array([1]), array([287]))\nroot - Down - Up feaures=(0, 1, 2, 3, 4, 5, 6, 7, 8, 9, 10, 11, 12, 13, 14, 15, 16, 17, 18, 19, 20, 21, 22, 23, 24, 25, 26, 27) impurity=0.3200\nroot - Down - Up - Down, <pure> - Leaf class=1 belief= 1.000000 impurity=0.0000 counts=(array([1]), array([2]))\nroot - Down - Up - Up, <pure> - Leaf class=0 belief= 1.000000 impurity=0.0000 counts=(array([0]), array([8]))\nroot - Up feaures=(0, 1, 2, 3, 4, 5, 6, 7, 8, 9, 10, 11, 12, 13, 14, 15, 16, 17, 18, 19, 20, 21, 22, 23, 24, 25, 26, 27) impurity=0.0349\nroot - Up - Down feaures=(0, 1, 2, 3, 4, 5, 6, 7, 8, 9, 10, 11, 12, 13, 14, 15, 16, 17, 18, 19, 20, 21, 22, 23, 24, 25, 26, 27) impurity=0.2975\nroot - Up - Down - Down, <pure> - Leaf class=1 belief= 1.000000 impurity=0.0000 counts=(array([1]), array([2]))\nroot - Up - Down - Up, <pure> - Leaf class=0 belief= 1.000000 impurity=0.0000 counts=(array([0]), array([9]))\nroot - Up - Up, <cgaf> - Leaf class=0 belief= 0.982749 impurity=0.0339 counts=(array([0, 1]), array([3475,   61]))\n"
    }
   ],
   "source": [
    "#check iterator\n",
    "for i in list(clf):\n",
    "    print(i)"
   ]
  },
  {
   "cell_type": "code",
   "execution_count": 9,
   "metadata": {
    "tags": []
   },
   "outputs": [
    {
     "output_type": "stream",
     "name": "stdout",
     "text": "root feaures=(0, 1, 2, 3, 4, 5, 6, 7, 8, 9, 10, 11, 12, 13, 14, 15, 16, 17, 18, 19, 20, 21, 22, 23, 24, 25, 26, 27) impurity=0.1664\nroot - Down feaures=(0, 1, 2, 3, 4, 5, 6, 7, 8, 9, 10, 11, 12, 13, 14, 15, 16, 17, 18, 19, 20, 21, 22, 23, 24, 25, 26, 27) impurity=0.0524\nroot - Down - Down, <pure> - Leaf class=1 belief= 1.000000 impurity=0.0000 counts=(array([1]), array([287]))\nroot - Down - Up feaures=(0, 1, 2, 3, 4, 5, 6, 7, 8, 9, 10, 11, 12, 13, 14, 15, 16, 17, 18, 19, 20, 21, 22, 23, 24, 25, 26, 27) impurity=0.3200\nroot - Down - Up - Down, <pure> - Leaf class=1 belief= 1.000000 impurity=0.0000 counts=(array([1]), array([2]))\nroot - Down - Up - Up, <pure> - Leaf class=0 belief= 1.000000 impurity=0.0000 counts=(array([0]), array([8]))\nroot - Up feaures=(0, 1, 2, 3, 4, 5, 6, 7, 8, 9, 10, 11, 12, 13, 14, 15, 16, 17, 18, 19, 20, 21, 22, 23, 24, 25, 26, 27) impurity=0.0349\nroot - Up - Down feaures=(0, 1, 2, 3, 4, 5, 6, 7, 8, 9, 10, 11, 12, 13, 14, 15, 16, 17, 18, 19, 20, 21, 22, 23, 24, 25, 26, 27) impurity=0.2975\nroot - Up - Down - Down, <pure> - Leaf class=1 belief= 1.000000 impurity=0.0000 counts=(array([1]), array([2]))\nroot - Up - Down - Up, <pure> - Leaf class=0 belief= 1.000000 impurity=0.0000 counts=(array([0]), array([9]))\nroot - Up - Up, <cgaf> - Leaf class=0 belief= 0.982749 impurity=0.0339 counts=(array([0, 1]), array([3475,   61]))\n"
    }
   ],
   "source": [
    "#check iterator again\n",
    "for i in clf:\n",
    "    print(i)"
   ]
  },
  {
   "cell_type": "markdown",
   "metadata": {},
   "source": [
    "## Test STree is a sklearn estimator"
   ]
  },
  {
   "cell_type": "code",
   "execution_count": 10,
   "metadata": {
    "tags": []
   },
   "outputs": [
    {
     "output_type": "stream",
     "name": "stdout",
     "text": "1 functools.partial(<function check_no_attributes_set_in_init at 0x11f161ef0>, 'Stree')\n2 functools.partial(<function check_estimators_dtypes at 0x11f15e050>, 'Stree')\n3 functools.partial(<function check_fit_score_takes_y at 0x11f158ef0>, 'Stree')\n4 functools.partial(<function check_sample_weights_pandas_series at 0x11f155830>, 'Stree')\n5 functools.partial(<function check_sample_weights_not_an_array at 0x11f155950>, 'Stree')\n6 functools.partial(<function check_sample_weights_list at 0x11f155a70>, 'Stree')\n7 functools.partial(<function check_sample_weights_shape at 0x11f155b90>, 'Stree')\n8 functools.partial(<function check_sample_weights_invariance at 0x11f155cb0>, 'Stree')\n9 functools.partial(<function check_estimators_fit_returns_self at 0x11f161050>, 'Stree')\n10 functools.partial(<function check_estimators_fit_returns_self at 0x11f161050>, 'Stree', readonly_memmap=True)\n11 functools.partial(<function check_complex_data at 0x11f155e60>, 'Stree')\n12 functools.partial(<function check_dtype_object at 0x11f155dd0>, 'Stree')\n13 functools.partial(<function check_estimators_empty_data_messages at 0x11f15e170>, 'Stree')\n14 functools.partial(<function check_pipeline_consistency at 0x11f158dd0>, 'Stree')\n15 functools.partial(<function check_estimators_nan_inf at 0x11f15e290>, 'Stree')\n16 functools.partial(<function check_estimators_overwrite_params at 0x11f161dd0>, 'Stree')\n17 functools.partial(<function check_estimator_sparse_data at 0x11f155710>, 'Stree')\n18 functools.partial(<function check_estimators_pickle at 0x11f15e4d0>, 'Stree')\n19 functools.partial(<function check_classifier_data_not_an_array at 0x11f167170>, 'Stree')\n20 functools.partial(<function check_classifiers_one_label at 0x11f15eb90>, 'Stree')\n21 functools.partial(<function check_classifiers_classes at 0x11f1615f0>, 'Stree')\n22 functools.partial(<function check_estimators_partial_fit_n_features at 0x11f15e5f0>, 'Stree')\n23 functools.partial(<function check_classifiers_train at 0x11f15ecb0>, 'Stree')\n24 functools.partial(<function check_classifiers_train at 0x11f15ecb0>, 'Stree', readonly_memmap=True)\n25 functools.partial(<function check_classifiers_train at 0x11f15ecb0>, 'Stree', readonly_memmap=True, X_dtype='float32')\n26 functools.partial(<function check_classifiers_regression_target at 0x11f167c20>, 'Stree')\n27 functools.partial(<function check_supervised_y_no_nan at 0x11f14d560>, 'Stree')\n28 functools.partial(<function check_supervised_y_2d at 0x11f161290>, 'Stree')\n29 functools.partial(<function check_estimators_unfitted at 0x11f161170>, 'Stree')\n30 functools.partial(<function check_non_transformer_estimators_n_iter at 0x11f1677a0>, 'Stree')\n31 functools.partial(<function check_decision_proba_consistency at 0x11f167d40>, 'Stree')\n32 functools.partial(<function check_fit2d_predict1d at 0x11f1583b0>, 'Stree')\n33 functools.partial(<function check_methods_subset_invariance at 0x11f158560>, 'Stree')\n34 functools.partial(<function check_fit2d_1sample at 0x11f158680>, 'Stree')\n35 functools.partial(<function check_fit2d_1feature at 0x11f1587a0>, 'Stree')\n36 functools.partial(<function check_fit1d at 0x11f1588c0>, 'Stree')\n37 functools.partial(<function check_get_params_invariance at 0x11f1679e0>, 'Stree')\n38 functools.partial(<function check_set_params at 0x11f167b00>, 'Stree')\n39 functools.partial(<function check_dict_unchanged at 0x11f155f80>, 'Stree')\n40 functools.partial(<function check_dont_overwrite_parameters at 0x11f158290>, 'Stree')\n41 functools.partial(<function check_fit_idempotent at 0x11f167ef0>, 'Stree')\n42 functools.partial(<function check_n_features_in at 0x11f167f80>, 'Stree')\n43 functools.partial(<function check_requires_y_none at 0x11f16b050>, 'Stree')\n"
    }
   ],
   "source": [
    "# Make checks one by one\n",
    "c = 0\n",
    "checks = check_estimator(Stree(), generate_only=True)\n",
    "for check in checks:\n",
    "    c += 1\n",
    "    print(c, check[1])\n",
    "    check[1](check[0])"
   ]
  },
  {
   "cell_type": "code",
   "execution_count": 11,
   "metadata": {},
   "outputs": [],
   "source": [
    "# Check if the classifier is a sklearn estimator\n",
    "check_estimator(Stree())"
   ]
  },
  {
   "cell_type": "markdown",
   "metadata": {},
   "source": [
    "## Compare to SVM"
   ]
  },
  {
   "cell_type": "code",
   "execution_count": 12,
   "metadata": {
    "tags": []
   },
   "outputs": [
    {
     "output_type": "stream",
     "name": "stdout",
     "text": "== Not Weighted ===\nSVC train score ..: 0.9823100936524454\nSTree train score : 0.9830905306971904\nSVC test score ...: 0.9842233009708737\nSTree test score .: 0.9860436893203883\n==== Weighted =====\nSVC train score ..: 0.9799687825182102\nSTree train score : 0.9807492195629552\nSVC test score ...: 0.9848300970873787\nSTree test score .: 0.9830097087378641\n*SVC test score ..: 0.9487167285301864\n*STree test score : 0.9538538933228189\n"
    }
   ],
   "source": [
    "svc = SVC(C=7, kernel='rbf', gamma=.001, random_state=random_state)\n",
    "clf = Stree(C=17, kernel='rbf', gamma=.001, random_state=random_state)\n",
    "svc.fit(Xtrain, ytrain)\n",
    "clf.fit(Xtrain, ytrain)\n",
    "print(\"== Not Weighted ===\")\n",
    "print(\"SVC train score ..:\", svc.score(Xtrain, ytrain))\n",
    "print(\"STree train score :\", clf.score(Xtrain, ytrain))\n",
    "print(\"SVC test score ...:\", svc.score(Xtest, ytest))\n",
    "print(\"STree test score .:\", clf.score(Xtest, ytest))\n",
    "svc.fit(Xtrain, ytrain, weights)\n",
    "clf.fit(Xtrain, ytrain, weights)\n",
    "print(\"==== Weighted =====\")\n",
    "print(\"SVC train score ..:\", svc.score(Xtrain, ytrain))\n",
    "print(\"STree train score :\", clf.score(Xtrain, ytrain))\n",
    "print(\"SVC test score ...:\", svc.score(Xtest, ytest))\n",
    "print(\"STree test score .:\", clf.score(Xtest, ytest))\n",
    "print(\"*SVC test score ..:\", svc.score(Xtest, ytest, weights_test))\n",
    "print(\"*STree test score :\", clf.score(Xtest, ytest, weights_test))"
   ]
  },
  {
   "cell_type": "code",
   "execution_count": 13,
   "metadata": {
    "tags": []
   },
   "outputs": [
    {
     "output_type": "stream",
     "name": "stdout",
     "text": "root feaures=(0, 1, 2, 3, 4, 5, 6, 7, 8, 9, 10, 11, 12, 13, 14, 15, 16, 17, 18, 19, 20, 21, 22, 23, 24, 25, 26, 27) impurity=0.1664\nroot - Down, <cgaf> - Leaf class=1 belief= 0.888268 impurity=0.1985 counts=(array([0, 1]), array([ 40, 318]))\nroot - Up, <cgaf> - Leaf class=0 belief= 0.990247 impurity=0.0193 counts=(array([0, 1]), array([3452,   34]))\n\n"
    }
   ],
   "source": [
    "print(clf)"
   ]
  },
  {
   "cell_type": "markdown",
   "metadata": {},
   "source": [
    "## Test max_features"
   ]
  },
  {
   "cell_type": "code",
   "execution_count": 14,
   "metadata": {
    "tags": []
   },
   "outputs": [
    {
     "output_type": "stream",
     "name": "stdout",
     "text": "****************************************\nmax_features None = 28\nTrain score : 0.9841311134235172\nTest score .: 0.9848300970873787\nTook 0.35 seconds\n****************************************\nmax_features auto = 5\nTrain score : 0.981009365244537\nTest score .: 0.9830097087378641\nTook 0.71 seconds\n****************************************\nmax_features log2 = 4\nTrain score : 0.9763267429760666\nTest score .: 0.9775485436893204\nTook 0.32 seconds\n****************************************\nmax_features 7 = 7\nTrain score : 0.9750260145681582\nTest score .: 0.9775485436893204\nTook 2.35 seconds\n****************************************\nmax_features 0.5 = 14\nTrain score : 0.9820499479708636\nTest score .: 0.9824029126213593\nTook 84.80 seconds\n****************************************\nmax_features 0.1 = 2\nTrain score : 0.9513527575442248\nTest score .: 0.9526699029126213\nTook 0.25 seconds\n****************************************\nmax_features 0.7 = 19\nTrain score : 0.9841311134235172\nTest score .: 0.9830097087378641\nTook 14.16 seconds\n"
    }
   ],
   "source": [
    "for max_features in [None, \"auto\", \"log2\", 7, .5, .1, .7]:\n",
    "    now = time.time()\n",
    "    print(\"*\"*40)\n",
    "    clf = Stree(random_state=random_state, max_features=max_features)\n",
    "    clf.fit(Xtrain, ytrain)\n",
    "    print(f\"max_features {max_features} = {clf.max_features_}\")\n",
    "    print(\"Train score :\", clf.score(Xtrain, ytrain))\n",
    "    print(\"Test score .:\", clf.score(Xtest, ytest))\n",
    "    print(f\"Took {time.time() - now:.2f} seconds\")"
   ]
  }
 ],
 "metadata": {
  "kernelspec": {
   "display_name": "Python 3.7.6 64-bit ('general': venv)",
   "language": "python",
   "name": "python37664bitgeneralvenvfbd0a23e74cf4e778460f5ffc6761f39"
  },
  "language_info": {
   "codemirror_mode": {
    "name": "ipython",
    "version": 3
   },
   "file_extension": ".py",
   "mimetype": "text/x-python",
   "name": "python",
   "nbconvert_exporter": "python",
   "pygments_lexer": "ipython3",
   "version": "3.7.6-final"
  }
 },
 "nbformat": 4,
 "nbformat_minor": 2
}