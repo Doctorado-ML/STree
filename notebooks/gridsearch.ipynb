{
  "cells": [
    {
      "cell_type": "markdown",
      "metadata": {},
      "source": [
        "# Test Gridsearch\n",
        "with different kernels and different configurations"
      ]
    },
    {
      "cell_type": "markdown",
      "metadata": {},
      "source": [
        "# Setup\n",
        "Uncomment the next cell if STree is not already installed"
      ]
    },
    {
      "cell_type": "code",
      "execution_count": 1,
      "metadata": {},
      "outputs": [],
      "source": [
        "#\n",
        "# Google Colab setup\n",
        "#\n",
        "#!pip install git+https://github.com/doctorado-ml/stree"
      ]
    },
    {
      "cell_type": "code",
      "metadata": {
        "id": "zIHKVxthDZEa",
        "colab_type": "code",
        "colab": {}
      },
      "source": [
        "from sklearn.ensemble import AdaBoostClassifier\n",
        "from sklearn.svm import LinearSVC\n",
        "from sklearn.model_selection import GridSearchCV, train_test_split\n",
        "from stree import Stree"
      ],
      "execution_count": 2,
      "outputs": []
    },
    {
      "cell_type": "code",
      "metadata": {
        "id": "IEmq50QgDZEi",
        "colab_type": "code",
        "colab": {}
      },
      "source": [
        "import os\n",
        "if not os.path.isfile('data/creditcard.csv'):\n",
        "    !wget --no-check-certificate --content-disposition http://nube.jccm.es/index.php/s/Zs7SYtZQJ3RQ2H2/download\n",
        "    !tar xzf creditcard.tgz"
      ],
      "execution_count": 3,
      "outputs": []
    },
    {
      "cell_type": "code",
      "metadata": {
        "id": "z9Q-YUfBDZEq",
        "colab_type": "code",
        "colab": {},
        "outputId": "afc822fb-f16a-4302-8a67-2b9e2880159b",
        "tags": []
      },
      "source": [
        "random_state=1\n",
        "\n",
        "def load_creditcard(n_examples=0):\n",
        "    import pandas as pd\n",
        "    import numpy as np\n",
        "    import random\n",
        "    df = pd.read_csv('data/creditcard.csv')\n",
        "    print(\"Fraud: {0:.3f}% {1}\".format(df.Class[df.Class == 1].count()*100/df.shape[0], df.Class[df.Class == 1].count()))\n",
        "    print(\"Valid: {0:.3f}% {1}\".format(df.Class[df.Class == 0].count()*100/df.shape[0], df.Class[df.Class == 0].count()))\n",
        "    y = df.Class\n",
        "    X = df.drop(['Class', 'Time', 'Amount'], axis=1).values\n",
        "    if n_examples > 0:\n",
        "        # Take first n_examples samples\n",
        "        X = X[:n_examples, :]\n",
        "        y = y[:n_examples, :]\n",
        "    else:\n",
        "        # Take all the positive samples with a number of random negatives\n",
        "        if n_examples < 0:\n",
        "            Xt = X[(y == 1).ravel()]\n",
        "            yt = y[(y == 1).ravel()]\n",
        "            indices = random.sample(range(X.shape[0]), -1 * n_examples)\n",
        "            X = np.append(Xt, X[indices], axis=0)\n",
        "            y = np.append(yt, y[indices], axis=0)\n",
        "    print(\"X.shape\", X.shape, \" y.shape\", y.shape)\n",
        "    print(\"Fraud: {0:.3f}% {1}\".format(len(y[y == 1])*100/X.shape[0], len(y[y == 1])))\n",
        "    print(\"Valid: {0:.3f}% {1}\".format(len(y[y == 0]) * 100 / X.shape[0], len(y[y == 0])))\n",
        "    Xtrain, Xtest, ytrain, ytest = train_test_split(X, y, train_size=0.7, shuffle=True, random_state=random_state, stratify=y)\n",
        "    return Xtrain, Xtest, ytrain, ytest\n",
        "\n",
        "data = load_creditcard(-1000) # Take all true samples + 1000 of the others\n",
        "# data = load_creditcard(5000)  # Take the first 5000 samples\n",
        "# data = load_creditcard(0) # Take all the samples\n",
        "\n",
        "Xtrain = data[0]\n",
        "Xtest = data[1]\n",
        "ytrain = data[2]\n",
        "ytest = data[3]"
      ],
      "execution_count": 4,
      "outputs": [
        {
          "output_type": "stream",
          "name": "stdout",
          "text": "Fraud: 0.173% 492\nValid: 99.827% 284315\nX.shape (1492, 28)  y.shape (1492,)\nFraud: 32.976% 492\nValid: 67.024% 1000\n"
        }
      ]
    },
    {
      "cell_type": "markdown",
      "metadata": {},
      "source": [
        "# Tests"
      ]
    },
    {
      "cell_type": "code",
      "metadata": {
        "id": "HmX3kR4PDZEw",
        "colab_type": "code",
        "colab": {}
      },
      "source": [
        "parameters = {\n",
        "    'base_estimator': [Stree()],\n",
        "    'n_estimators': [10, 25],\n",
        "    'learning_rate': [.5, 1],\n",
        "    'base_estimator__tol': [.1,  1e-02],\n",
        "    'base_estimator__max_depth': [3, 5],\n",
        "    'base_estimator__C': [7, 55],\n",
        "    'base_estimator__kernel': ['linear', 'poly', 'rbf']\n",
        "}"
      ],
      "execution_count": 5,
      "outputs": []
    },
    {
      "cell_type": "code",
      "execution_count": 6,
      "metadata": {},
      "outputs": [
        {
          "output_type": "execute_result",
          "data": {
            "text/plain": "{'C': 1.0,\n 'criterion': 'gini',\n 'degree': 3,\n 'gamma': 'scale',\n 'kernel': 'linear',\n 'max_depth': None,\n 'max_features': None,\n 'max_iter': 1000,\n 'min_samples_split': 0,\n 'random_state': None,\n 'split_criteria': 'max_samples',\n 'splitter': 'random',\n 'tol': 0.0001}"
          },
          "metadata": {},
          "execution_count": 6
        }
      ],
      "source": [
        "Stree().get_params()"
      ]
    },
    {
      "cell_type": "code",
      "metadata": {
        "id": "CrcB8o6EDZE5",
        "colab_type": "code",
        "colab": {},
        "outputId": "7703413a-d563-4289-a13b-532f38f82762",
        "tags": []
      },
      "source": [
        "random_state=2020\n",
        "clf = AdaBoostClassifier(random_state=random_state, algorithm=\"SAMME\")\n",
        "grid = GridSearchCV(clf, parameters, verbose=10, n_jobs=-1, return_train_score=True)\n",
        "grid.fit(Xtrain, ytrain)"
      ],
      "execution_count": 7,
      "outputs": [
        {
          "output_type": "stream",
          "name": "stdout",
          "text": "Fitting 5 folds for each of 96 candidates, totalling 480 fits\n[Parallel(n_jobs=-1)]: Using backend LokyBackend with 8 concurrent workers.\n[Parallel(n_jobs=-1)]: Done   2 tasks      | elapsed:    2.0s\n[Parallel(n_jobs=-1)]: Done   9 tasks      | elapsed:    2.4s\n[Parallel(n_jobs=-1)]: Done  16 tasks      | elapsed:    2.7s\n[Parallel(n_jobs=-1)]: Done  25 tasks      | elapsed:    3.3s\n[Parallel(n_jobs=-1)]: Done  34 tasks      | elapsed:    4.3s\n[Parallel(n_jobs=-1)]: Done  45 tasks      | elapsed:    5.3s\n[Parallel(n_jobs=-1)]: Done  56 tasks      | elapsed:    6.6s\n[Parallel(n_jobs=-1)]: Done  69 tasks      | elapsed:    8.1s\n[Parallel(n_jobs=-1)]: Done  82 tasks      | elapsed:    9.4s\n[Parallel(n_jobs=-1)]: Done  97 tasks      | elapsed:   10.1s\n[Parallel(n_jobs=-1)]: Done 112 tasks      | elapsed:   11.1s\n[Parallel(n_jobs=-1)]: Done 129 tasks      | elapsed:   12.3s\n[Parallel(n_jobs=-1)]: Done 146 tasks      | elapsed:   13.6s\n[Parallel(n_jobs=-1)]: Done 165 tasks      | elapsed:   14.9s\n[Parallel(n_jobs=-1)]: Done 184 tasks      | elapsed:   16.2s\n[Parallel(n_jobs=-1)]: Done 205 tasks      | elapsed:   17.6s\n[Parallel(n_jobs=-1)]: Done 226 tasks      | elapsed:   19.1s\n[Parallel(n_jobs=-1)]: Done 249 tasks      | elapsed:   21.6s\n[Parallel(n_jobs=-1)]: Done 272 tasks      | elapsed:   25.9s\n[Parallel(n_jobs=-1)]: Done 297 tasks      | elapsed:   30.4s\n[Parallel(n_jobs=-1)]: Done 322 tasks      | elapsed:   36.7s\n[Parallel(n_jobs=-1)]: Done 349 tasks      | elapsed:   38.1s\n[Parallel(n_jobs=-1)]: Done 376 tasks      | elapsed:   39.6s\n[Parallel(n_jobs=-1)]: Done 405 tasks      | elapsed:   41.9s\n[Parallel(n_jobs=-1)]: Done 434 tasks      | elapsed:   44.9s\n[Parallel(n_jobs=-1)]: Done 465 tasks      | elapsed:   48.2s\n[Parallel(n_jobs=-1)]: Done 480 out of 480 | elapsed:   49.2s finished\n"
        },
        {
          "output_type": "execute_result",
          "data": {
            "text/plain": "GridSearchCV(estimator=AdaBoostClassifier(algorithm='SAMME', random_state=2020),\n             n_jobs=-1,\n             param_grid={'base_estimator': [Stree(C=55, max_depth=3, tol=0.01)],\n                         'base_estimator__C': [7, 55],\n                         'base_estimator__kernel': ['linear', 'poly', 'rbf'],\n                         'base_estimator__max_depth': [3, 5],\n                         'base_estimator__tol': [0.1, 0.01],\n                         'learning_rate': [0.5, 1], 'n_estimators': [10, 25]},\n             return_train_score=True, verbose=10)"
          },
          "metadata": {},
          "execution_count": 7
        }
      ]
    },
    {
      "cell_type": "code",
      "metadata": {
        "id": "ZjX88NoYDZE8",
        "colab_type": "code",
        "colab": {},
        "outputId": "285163c8-fa33-4915-8ae7-61c4f7844344",
        "tags": []
      },
      "source": [
        "print(\"Best estimator: \", grid.best_estimator_)\n",
        "print(\"Best hyperparameters: \", grid.best_params_)\n",
        "print(\"Best accuracy: \", grid.best_score_)"
      ],
      "execution_count": 8,
      "outputs": [
        {
          "output_type": "stream",
          "name": "stdout",
          "text": "Best estimator:  AdaBoostClassifier(algorithm='SAMME',\n                   base_estimator=Stree(C=55, max_depth=3, tol=0.01),\n                   learning_rate=0.5, n_estimators=25, random_state=2020)\nBest hyperparameters:  {'base_estimator': Stree(C=55, max_depth=3, tol=0.01), 'base_estimator__C': 55, 'base_estimator__kernel': 'linear', 'base_estimator__max_depth': 3, 'base_estimator__tol': 0.01, 'learning_rate': 0.5, 'n_estimators': 25}\nBest accuracy:  0.9559440559440558\n"
        }
      ]
    }
  ],
  "metadata": {
    "language_info": {
      "codemirror_mode": {
        "name": "ipython",
        "version": 3
      },
      "file_extension": ".py",
      "mimetype": "text/x-python",
      "name": "python",
      "nbconvert_exporter": "python",
      "pygments_lexer": "ipython3",
      "version": "3.7.6-final"
    },
    "orig_nbformat": 2,
    "kernelspec": {
      "name": "python37664bitgeneralvenvfbd0a23e74cf4e778460f5ffc6761f39",
      "display_name": "Python 3.7.6 64-bit ('general': venv)"
    },
    "colab": {
      "name": "gridsearch.ipynb",
      "provenance": []
    }
  },
  "nbformat": 4,
  "nbformat_minor": 0
}