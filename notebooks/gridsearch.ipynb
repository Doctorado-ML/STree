{
  "cells": [
    {
      "cell_type": "markdown",
      "metadata": {},
      "source": [
        "# Test Gridsearch\n",
        "with different kernels and different configurations"
      ]
    },
    {
      "cell_type": "markdown",
      "metadata": {},
      "source": [
        "# Setup\n",
        "Uncomment the next cell if STree is not already installed"
      ]
    },
    {
      "cell_type": "code",
      "execution_count": 1,
      "metadata": {},
      "outputs": [],
      "source": [
        "#\n",
        "# Google Colab setup\n",
        "#\n",
        "#!pip install git+https://github.com/doctorado-ml/stree"
      ]
    },
    {
      "cell_type": "code",
      "metadata": {
        "id": "zIHKVxthDZEa",
        "colab_type": "code",
        "colab": {}
      },
      "source": [
        "from sklearn.ensemble import AdaBoostClassifier\n",
        "from sklearn.svm import LinearSVC\n",
        "from sklearn.model_selection import GridSearchCV, train_test_split\n",
        "from stree import Stree"
      ],
      "execution_count": 2,
      "outputs": []
    },
    {
      "cell_type": "code",
      "metadata": {
        "id": "IEmq50QgDZEi",
        "colab_type": "code",
        "colab": {}
      },
      "source": [
        "import os\n",
        "if not os.path.isfile('data/creditcard.csv'):\n",
        "    !wget --no-check-certificate --content-disposition http://nube.jccm.es/index.php/s/Zs7SYtZQJ3RQ2H2/download\n",
        "    !tar xzf creditcard.tgz"
      ],
      "execution_count": 3,
      "outputs": []
    },
    {
      "cell_type": "code",
      "metadata": {
        "id": "z9Q-YUfBDZEq",
        "colab_type": "code",
        "colab": {},
        "outputId": "afc822fb-f16a-4302-8a67-2b9e2880159b",
        "tags": []
      },
      "source": [
        "random_state=1\n",
        "\n",
        "def load_creditcard(n_examples=0):\n",
        "    import pandas as pd\n",
        "    import numpy as np\n",
        "    import random\n",
        "    df = pd.read_csv('data/creditcard.csv')\n",
        "    print(\"Fraud: {0:.3f}% {1}\".format(df.Class[df.Class == 1].count()*100/df.shape[0], df.Class[df.Class == 1].count()))\n",
        "    print(\"Valid: {0:.3f}% {1}\".format(df.Class[df.Class == 0].count()*100/df.shape[0], df.Class[df.Class == 0].count()))\n",
        "    y = df.Class\n",
        "    X = df.drop(['Class', 'Time', 'Amount'], axis=1).values\n",
        "    if n_examples > 0:\n",
        "        # Take first n_examples samples\n",
        "        X = X[:n_examples, :]\n",
        "        y = y[:n_examples, :]\n",
        "    else:\n",
        "        # Take all the positive samples with a number of random negatives\n",
        "        if n_examples < 0:\n",
        "            Xt = X[(y == 1).ravel()]\n",
        "            yt = y[(y == 1).ravel()]\n",
        "            indices = random.sample(range(X.shape[0]), -1 * n_examples)\n",
        "            X = np.append(Xt, X[indices], axis=0)\n",
        "            y = np.append(yt, y[indices], axis=0)\n",
        "    print(\"X.shape\", X.shape, \" y.shape\", y.shape)\n",
        "    print(\"Fraud: {0:.3f}% {1}\".format(len(y[y == 1])*100/X.shape[0], len(y[y == 1])))\n",
        "    print(\"Valid: {0:.3f}% {1}\".format(len(y[y == 0]) * 100 / X.shape[0], len(y[y == 0])))\n",
        "    Xtrain, Xtest, ytrain, ytest = train_test_split(X, y, train_size=0.7, shuffle=True, random_state=random_state, stratify=y)\n",
        "    return Xtrain, Xtest, ytrain, ytest\n",
        "\n",
        "data = load_creditcard(-1000) # Take all true samples + 1000 of the others\n",
        "# data = load_creditcard(5000)  # Take the first 5000 samples\n",
        "# data = load_creditcard(0) # Take all the samples\n",
        "\n",
        "Xtrain = data[0]\n",
        "Xtest = data[1]\n",
        "ytrain = data[2]\n",
        "ytest = data[3]"
      ],
      "execution_count": 4,
      "outputs": [
        {
          "output_type": "stream",
          "name": "stdout",
          "text": [
            "Fraud: 0.173% 492\nValid: 99.827% 284315\nX.shape (1492, 28)  y.shape (1492,)\nFraud: 33.177% 495\nValid: 66.823% 997\n"
          ]
        }
      ]
    },
    {
      "cell_type": "markdown",
      "metadata": {},
      "source": [
        "# Tests"
      ]
    },
    {
      "cell_type": "code",
      "metadata": {
        "id": "HmX3kR4PDZEw",
        "colab_type": "code",
        "colab": {}
      },
      "source": [
        "parameters = [{\n",
        "    'base_estimator': [Stree()],\n",
        "    'n_estimators': [10, 25],\n",
        "    'learning_rate': [.5, 1],\n",
        "    'base_estimator__split_criteria': ['max_samples', 'impurity'],\n",
        "    'base_estimator__tol': [.1,  1e-02],\n",
        "    'base_estimator__max_depth': [3, 5, 7],\n",
        "    'base_estimator__C': [1, 7, 55],\n",
        "    'base_estimator__kernel': ['linear']\n",
        "},\n",
        "{\n",
        "    'base_estimator': [Stree()],\n",
        "    'n_estimators': [10, 25],\n",
        "    'learning_rate': [.5, 1],\n",
        "    'base_estimator__split_criteria': ['max_samples', 'impurity'],\n",
        "    'base_estimator__tol': [.1,  1e-02],\n",
        "    'base_estimator__max_depth': [3, 5, 7],\n",
        "    'base_estimator__C': [1, 7, 55],\n",
        "    'base_estimator__degree': [3, 5, 7],\n",
        "    'base_estimator__kernel': ['poly']\n",
        "},\n",
        "{\n",
        "    'base_estimator': [Stree()],\n",
        "    'n_estimators': [10, 25],\n",
        "    'learning_rate': [.5, 1],\n",
        "    'base_estimator__split_criteria': ['max_samples', 'impurity'],\n",
        "    'base_estimator__tol': [.1,  1e-02],\n",
        "    'base_estimator__max_depth': [3, 5, 7],\n",
        "    'base_estimator__C': [1, 7, 55],\n",
        "    'base_estimator__gamma': [.1, 1, 10],\n",
        "    'base_estimator__kernel': ['rbf']\n",
        "}]"
      ],
      "execution_count": 5,
      "outputs": []
    },
    {
      "cell_type": "code",
      "execution_count": 6,
      "metadata": {},
      "outputs": [
        {
          "output_type": "execute_result",
          "data": {
            "text/plain": [
              "{'C': 1.0,\n",
              " 'criterion': 'entropy',\n",
              " 'degree': 3,\n",
              " 'gamma': 'scale',\n",
              " 'kernel': 'linear',\n",
              " 'max_depth': None,\n",
              " 'max_features': None,\n",
              " 'max_iter': 100000.0,\n",
              " 'min_samples_split': 0,\n",
              " 'random_state': None,\n",
              " 'split_criteria': 'impurity',\n",
              " 'splitter': 'random',\n",
              " 'tol': 0.0001}"
            ]
          },
          "metadata": {},
          "execution_count": 6
        }
      ],
      "source": [
        "Stree().get_params()"
      ]
    },
    {
      "cell_type": "code",
      "metadata": {
        "id": "CrcB8o6EDZE5",
        "colab_type": "code",
        "colab": {},
        "outputId": "7703413a-d563-4289-a13b-532f38f82762",
        "tags": []
      },
      "source": [
        "random_state=2020\n",
        "clf = AdaBoostClassifier(random_state=random_state, algorithm=\"SAMME\")\n",
        "grid = GridSearchCV(clf, parameters, verbose=10, n_jobs=-1, return_train_score=True)\n",
        "grid.fit(Xtrain, ytrain)"
      ],
      "execution_count": 7,
      "outputs": [
        {
          "output_type": "stream",
          "name": "stdout",
          "text": [
            "Fitting 5 folds for each of 1008 candidates, totalling 5040 fits\n",
            "[Parallel(n_jobs=-1)]: Using backend LokyBackend with 8 concurrent workers.\n",
            "[Parallel(n_jobs=-1)]: Done   2 tasks      | elapsed:    2.6s\n",
            "[Parallel(n_jobs=-1)]: Done   9 tasks      | elapsed:    3.2s\n",
            "[Parallel(n_jobs=-1)]: Done  16 tasks      | elapsed:    3.5s\n",
            "[Parallel(n_jobs=-1)]: Done  25 tasks      | elapsed:    4.0s\n",
            "[Parallel(n_jobs=-1)]: Done  34 tasks      | elapsed:    4.5s\n",
            "[Parallel(n_jobs=-1)]: Done  45 tasks      | elapsed:    5.0s\n",
            "[Parallel(n_jobs=-1)]: Done  56 tasks      | elapsed:    5.5s\n",
            "[Parallel(n_jobs=-1)]: Done  69 tasks      | elapsed:    6.2s\n",
            "[Parallel(n_jobs=-1)]: Done  82 tasks      | elapsed:    7.1s\n",
            "[Parallel(n_jobs=-1)]: Done  97 tasks      | elapsed:    8.2s\n",
            "[Parallel(n_jobs=-1)]: Done 112 tasks      | elapsed:    9.6s\n",
            "[Parallel(n_jobs=-1)]: Done 129 tasks      | elapsed:   11.0s\n",
            "[Parallel(n_jobs=-1)]: Done 146 tasks      | elapsed:   12.5s\n",
            "[Parallel(n_jobs=-1)]: Done 165 tasks      | elapsed:   14.3s\n",
            "[Parallel(n_jobs=-1)]: Done 184 tasks      | elapsed:   16.0s\n",
            "[Parallel(n_jobs=-1)]: Done 205 tasks      | elapsed:   18.1s\n",
            "[Parallel(n_jobs=-1)]: Done 226 tasks      | elapsed:   20.1s\n",
            "[Parallel(n_jobs=-1)]: Done 249 tasks      | elapsed:   21.9s\n",
            "[Parallel(n_jobs=-1)]: Done 272 tasks      | elapsed:   23.4s\n",
            "[Parallel(n_jobs=-1)]: Done 297 tasks      | elapsed:   24.9s\n",
            "[Parallel(n_jobs=-1)]: Done 322 tasks      | elapsed:   26.6s\n",
            "[Parallel(n_jobs=-1)]: Done 349 tasks      | elapsed:   29.3s\n",
            "[Parallel(n_jobs=-1)]: Done 376 tasks      | elapsed:   31.9s\n",
            "[Parallel(n_jobs=-1)]: Done 405 tasks      | elapsed:   35.5s\n",
            "[Parallel(n_jobs=-1)]: Done 434 tasks      | elapsed:   38.7s\n",
            "[Parallel(n_jobs=-1)]: Done 465 tasks      | elapsed:   42.1s\n",
            "[Parallel(n_jobs=-1)]: Done 496 tasks      | elapsed:   46.1s\n",
            "[Parallel(n_jobs=-1)]: Done 529 tasks      | elapsed:   52.7s\n",
            "[Parallel(n_jobs=-1)]: Done 562 tasks      | elapsed:   58.1s\n",
            "[Parallel(n_jobs=-1)]: Done 597 tasks      | elapsed:  1.1min\n",
            "[Parallel(n_jobs=-1)]: Done 632 tasks      | elapsed:  1.3min\n",
            "[Parallel(n_jobs=-1)]: Done 669 tasks      | elapsed:  1.5min\n",
            "[Parallel(n_jobs=-1)]: Done 706 tasks      | elapsed:  1.6min\n",
            "[Parallel(n_jobs=-1)]: Done 745 tasks      | elapsed:  1.7min\n",
            "[Parallel(n_jobs=-1)]: Done 784 tasks      | elapsed:  1.8min\n",
            "[Parallel(n_jobs=-1)]: Done 825 tasks      | elapsed:  1.8min\n",
            "[Parallel(n_jobs=-1)]: Done 866 tasks      | elapsed:  1.8min\n",
            "[Parallel(n_jobs=-1)]: Done 909 tasks      | elapsed:  1.9min\n",
            "[Parallel(n_jobs=-1)]: Done 952 tasks      | elapsed:  1.9min\n",
            "[Parallel(n_jobs=-1)]: Done 997 tasks      | elapsed:  2.0min\n",
            "[Parallel(n_jobs=-1)]: Done 1042 tasks      | elapsed:  2.0min\n",
            "[Parallel(n_jobs=-1)]: Done 1089 tasks      | elapsed:  2.1min\n",
            "[Parallel(n_jobs=-1)]: Done 1136 tasks      | elapsed:  2.2min\n",
            "[Parallel(n_jobs=-1)]: Done 1185 tasks      | elapsed:  2.2min\n",
            "[Parallel(n_jobs=-1)]: Done 1234 tasks      | elapsed:  2.3min\n",
            "[Parallel(n_jobs=-1)]: Done 1285 tasks      | elapsed:  2.4min\n",
            "[Parallel(n_jobs=-1)]: Done 1336 tasks      | elapsed:  2.4min\n",
            "[Parallel(n_jobs=-1)]: Done 1389 tasks      | elapsed:  2.5min\n",
            "[Parallel(n_jobs=-1)]: Done 1442 tasks      | elapsed:  2.6min\n",
            "[Parallel(n_jobs=-1)]: Done 1497 tasks      | elapsed:  2.6min\n",
            "[Parallel(n_jobs=-1)]: Done 1552 tasks      | elapsed:  2.7min\n",
            "[Parallel(n_jobs=-1)]: Done 1609 tasks      | elapsed:  2.8min\n",
            "[Parallel(n_jobs=-1)]: Done 1666 tasks      | elapsed:  2.8min\n",
            "[Parallel(n_jobs=-1)]: Done 1725 tasks      | elapsed:  2.9min\n",
            "[Parallel(n_jobs=-1)]: Done 1784 tasks      | elapsed:  3.0min\n",
            "[Parallel(n_jobs=-1)]: Done 1845 tasks      | elapsed:  3.0min\n",
            "[Parallel(n_jobs=-1)]: Done 1906 tasks      | elapsed:  3.1min\n",
            "[Parallel(n_jobs=-1)]: Done 1969 tasks      | elapsed:  3.2min\n",
            "[Parallel(n_jobs=-1)]: Done 2032 tasks      | elapsed:  3.3min\n",
            "[Parallel(n_jobs=-1)]: Done 2097 tasks      | elapsed:  3.3min\n",
            "[Parallel(n_jobs=-1)]: Done 2162 tasks      | elapsed:  3.4min\n",
            "[Parallel(n_jobs=-1)]: Done 2229 tasks      | elapsed:  3.5min\n",
            "[Parallel(n_jobs=-1)]: Done 2296 tasks      | elapsed:  3.6min\n",
            "[Parallel(n_jobs=-1)]: Done 2365 tasks      | elapsed:  3.6min\n",
            "[Parallel(n_jobs=-1)]: Done 2434 tasks      | elapsed:  3.7min\n",
            "[Parallel(n_jobs=-1)]: Done 2505 tasks      | elapsed:  3.8min\n",
            "[Parallel(n_jobs=-1)]: Done 2576 tasks      | elapsed:  3.8min\n",
            "[Parallel(n_jobs=-1)]: Done 2649 tasks      | elapsed:  3.9min\n",
            "[Parallel(n_jobs=-1)]: Done 2722 tasks      | elapsed:  4.0min\n",
            "[Parallel(n_jobs=-1)]: Done 2797 tasks      | elapsed:  4.1min\n",
            "[Parallel(n_jobs=-1)]: Done 2872 tasks      | elapsed:  4.2min\n",
            "[Parallel(n_jobs=-1)]: Done 2949 tasks      | elapsed:  4.3min\n",
            "[Parallel(n_jobs=-1)]: Done 3026 tasks      | elapsed:  4.5min\n",
            "[Parallel(n_jobs=-1)]: Done 3105 tasks      | elapsed:  4.7min\n",
            "[Parallel(n_jobs=-1)]: Done 3184 tasks      | elapsed:  4.9min\n",
            "[Parallel(n_jobs=-1)]: Done 3265 tasks      | elapsed:  5.0min\n",
            "[Parallel(n_jobs=-1)]: Done 3346 tasks      | elapsed:  5.2min\n",
            "[Parallel(n_jobs=-1)]: Done 3429 tasks      | elapsed:  5.4min\n",
            "[Parallel(n_jobs=-1)]: Done 3512 tasks      | elapsed:  5.6min\n",
            "[Parallel(n_jobs=-1)]: Done 3597 tasks      | elapsed:  5.9min\n",
            "[Parallel(n_jobs=-1)]: Done 3682 tasks      | elapsed:  6.1min\n",
            "[Parallel(n_jobs=-1)]: Done 3769 tasks      | elapsed:  6.3min\n",
            "[Parallel(n_jobs=-1)]: Done 3856 tasks      | elapsed:  6.6min\n",
            "[Parallel(n_jobs=-1)]: Done 3945 tasks      | elapsed:  6.9min\n",
            "[Parallel(n_jobs=-1)]: Done 4034 tasks      | elapsed:  7.1min\n",
            "[Parallel(n_jobs=-1)]: Done 4125 tasks      | elapsed:  7.4min\n",
            "[Parallel(n_jobs=-1)]: Done 4216 tasks      | elapsed:  7.6min\n",
            "[Parallel(n_jobs=-1)]: Done 4309 tasks      | elapsed:  7.8min\n",
            "[Parallel(n_jobs=-1)]: Done 4402 tasks      | elapsed:  8.1min\n",
            "[Parallel(n_jobs=-1)]: Done 4497 tasks      | elapsed:  8.5min\n",
            "[Parallel(n_jobs=-1)]: Done 4592 tasks      | elapsed:  8.8min\n",
            "[Parallel(n_jobs=-1)]: Done 4689 tasks      | elapsed:  9.0min\n",
            "[Parallel(n_jobs=-1)]: Done 4786 tasks      | elapsed:  9.3min\n",
            "[Parallel(n_jobs=-1)]: Done 4885 tasks      | elapsed:  9.6min\n",
            "[Parallel(n_jobs=-1)]: Done 4984 tasks      | elapsed:  9.8min\n",
            "[Parallel(n_jobs=-1)]: Done 5040 out of 5040 | elapsed: 10.0min finished\n"
          ]
        },
        {
          "output_type": "execute_result",
          "data": {
            "text/plain": [
              "GridSearchCV(estimator=AdaBoostClassifier(algorithm='SAMME', random_state=2020),\n",
              "             n_jobs=-1,\n",
              "             param_grid=[{'base_estimator': [Stree(C=7, max_depth=5,\n",
              "                                                   split_criteria='max_samples',\n",
              "                                                   tol=0.01)],\n",
              "                          'base_estimator__C': [1, 7, 55],\n",
              "                          'base_estimator__kernel': ['linear'],\n",
              "                          'base_estimator__max_depth': [3, 5, 7],\n",
              "                          'base_estimator__split_criteria': ['max_samples',\n",
              "                                                             'impurity'],\n",
              "                          'base_e...\n",
              "                          'learning_rate': [0.5, 1], 'n_estimators': [10, 25]},\n",
              "                         {'base_estimator': [Stree()],\n",
              "                          'base_estimator__C': [1, 7, 55],\n",
              "                          'base_estimator__gamma': [0.1, 1, 10],\n",
              "                          'base_estimator__kernel': ['rbf'],\n",
              "                          'base_estimator__max_depth': [3, 5, 7],\n",
              "                          'base_estimator__split_criteria': ['max_samples',\n",
              "                                                             'impurity'],\n",
              "                          'base_estimator__tol': [0.1, 0.01],\n",
              "                          'learning_rate': [0.5, 1],\n",
              "                          'n_estimators': [10, 25]}],\n",
              "             return_train_score=True, verbose=10)"
            ]
          },
          "metadata": {},
          "execution_count": 7
        }
      ]
    },
    {
      "source": [
        "GridSearchCV(estimator=AdaBoostClassifier(algorithm='SAMME', random_state=2020),\n",
        "             n_jobs=-1,\n",
        "             param_grid={'base_estimator': [Stree(C=55, max_depth=3, tol=0.01)],\n",
        "                         'base_estimator__C': [7, 55],\n",
        "                         'base_estimator__kernel': ['linear', 'poly', 'rbf'],\n",
        "                         'base_estimator__max_depth': [3, 5],\n",
        "                         'base_estimator__tol': [0.1, 0.01],\n",
        "                         'learning_rate': [0.5, 1], 'n_estimators': [10, 25]},\n",
        "             return_train_score=True, verbose=10)"
      ],
      "cell_type": "markdown",
      "metadata": {}
    },
    {
      "cell_type": "code",
      "metadata": {
        "id": "ZjX88NoYDZE8",
        "colab_type": "code",
        "colab": {},
        "outputId": "285163c8-fa33-4915-8ae7-61c4f7844344",
        "tags": []
      },
      "source": [
        "print(\"Best estimator: \", grid.best_estimator_)\n",
        "print(\"Best hyperparameters: \", grid.best_params_)\n",
        "print(\"Best accuracy: \", grid.best_score_)"
      ],
      "execution_count": 8,
      "outputs": [
        {
          "output_type": "stream",
          "name": "stdout",
          "text": [
            "Best estimator:  AdaBoostClassifier(algorithm='SAMME',\n                   base_estimator=Stree(C=7, max_depth=5,\n                                        split_criteria='max_samples',\n                                        tol=0.01),\n                   learning_rate=0.5, n_estimators=25, random_state=2020)\nBest hyperparameters:  {'base_estimator': Stree(C=7, max_depth=5, split_criteria='max_samples', tol=0.01), 'base_estimator__C': 7, 'base_estimator__kernel': 'linear', 'base_estimator__max_depth': 5, 'base_estimator__split_criteria': 'max_samples', 'base_estimator__tol': 0.01, 'learning_rate': 0.5, 'n_estimators': 25}\nBest accuracy:  0.9549825174825175\n"
          ]
        }
      ]
    },
    {
      "source": [
        "Best estimator:  AdaBoostClassifier(algorithm='SAMME',\n",
        "                   base_estimator=Stree(C=55, max_depth=3, tol=0.01),\n",
        "                   learning_rate=0.5, n_estimators=25, random_state=2020)\n",
        "\n",
        "Best hyperparameters:  {'base_estimator': Stree(C=55, max_depth=3, tol=0.01), 'base_estimator__C': 55, 'base_estimator__kernel': 'linear', 'base_estimator__max_depth': 3, 'base_estimator__tol': 0.01, 'learning_rate': 0.5, 'n_estimators': 25}\n",
        "\n",
        "Best accuracy:  0.9559440559440558"
      ],
      "cell_type": "markdown",
      "metadata": {}
    },
    {
      "source": [
        "0.9511547662863451"
      ],
      "cell_type": "markdown",
      "metadata": {}
    }
  ],
  "metadata": {
    "language_info": {
      "codemirror_mode": {
        "name": "ipython",
        "version": 3
      },
      "file_extension": ".py",
      "mimetype": "text/x-python",
      "name": "python",
      "nbconvert_exporter": "python",
      "pygments_lexer": "ipython3",
      "version": "3.8.4-final"
    },
    "orig_nbformat": 2,
    "kernelspec": {
      "name": "python38464bitgeneralvenv77203c0a6afd4428bd66253ef62753dc",
      "display_name": "Python 3.8.4 64-bit ('general': venv)"
    },
    "colab": {
      "name": "gridsearch.ipynb",
      "provenance": []
    }
  },
  "nbformat": 4,
  "nbformat_minor": 0
}