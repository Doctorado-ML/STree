{
 "cells": [
  {
   "cell_type": "code",
   "execution_count": 2,
   "metadata": {},
   "outputs": [],
   "source": [
    "import numpy as np \n",
    "from sklearn.svm import LinearSVC\n",
    "from sklearn.datasets import make_classification\n",
    "\n",
    "random_state = 1\n",
    "X, y = make_classification(n_samples=1500, n_features=3, n_informative=3, \n",
    "                    n_redundant=0, n_repeated=0, n_classes=2, n_clusters_per_class=2,\n",
    "                    class_sep=1.5, flip_y=0,weights=[0.5,0.5], random_state=random_state)"
   ]
  },
  {
   "cell_type": "code",
   "execution_count": 3,
   "metadata": {},
   "outputs": [
    {
     "output_type": "stream",
     "name": "stdout",
     "text": "data/dataset1.csv - root\ndata/dataset2.csv - root - Down\ndata/dataset3.csv - root - Down - Down, classes=[0 1], items<0>=17, items<1>=691, <couldn't go any further> LEAF accuracy=0.98\ndata/dataset4.csv - root - Down - Up\ndata/dataset5.csv - root - Down - Up - Down, classes=[0 1], items<0>=1, items<1>=3, <couldn't go any further> LEAF accuracy=0.75\ndata/dataset6.csv - root - Down - Up - Up, class=[0], items=7, rest=0,  <pure>  LEAF accuracy=1.00\ndata/dataset3.csv - root - Up, classes=[0 1], items<0>=725, items<1>=56, <couldn't go any further> LEAF accuracy=0.93\n"
    }
   ],
   "source": [
    "!cat data/catalog.txt"
   ]
  },
  {
   "cell_type": "code",
   "execution_count": 4,
   "metadata": {},
   "outputs": [],
   "source": [
    "def readsub(name):\n",
    "    data = np.genfromtxt(name, delimiter=',')\n",
    "    data = np.array(data)\n",
    "    py = data[:, data.shape[1] - 1]\n",
    "    px = np.delete(data, data.shape[1] - 1, axis=1)\n",
    "    return px, py\n",
    "def localiza(X, px):\n",
    "    enc = False\n",
    "    for i in range(X.shape[0]):\n",
    "        if all(X[i, :] == px):\n",
    "            enc = True\n",
    "            print(f\" i={i} - X[{i}, :]={X[i, :]} - px={px} - y[{i}]={y[i]}\")\n",
    "    print(\"Encontrado:\", enc)\n",
    "    "
   ]
  },
  {
   "cell_type": "code",
   "execution_count": 5,
   "metadata": {},
   "outputs": [],
   "source": [
    "px, py = readsub('data/dataset5.csv')\n",
    "model = LinearSVC(random_state=1, max_iter=1000)\n",
    "model.fit(px,py)\n",
    "yp = model.predict(px)"
   ]
  },
  {
   "cell_type": "code",
   "execution_count": 15,
   "metadata": {},
   "outputs": [
    {
     "output_type": "stream",
     "name": "stdout",
     "text": "[1. 1. 1. 1.]\n[1. 1. 0. 1.]\n"
    }
   ],
   "source": [
    "print(yp)\n",
    "print(py)"
   ]
  },
  {
   "cell_type": "code",
   "execution_count": 16,
   "metadata": {},
   "outputs": [
    {
     "output_type": "stream",
     "name": "stdout",
     "text": "i=1132 - X[1132, :]=[-0.41453617 -0.38206564  0.54849331] - px=[-0.41453617 -0.38206564  0.54849331] - y[1132]=0\nEncontrado: True\n"
    }
   ],
   "source": [
    "localiza(X, px[2, :])"
   ]
  },
  {
   "cell_type": "code",
   "execution_count": null,
   "metadata": {},
   "outputs": [],
   "source": []
  }
 ],
 "metadata": {
  "language_info": {
   "codemirror_mode": {
    "name": "ipython",
    "version": 3
   },
   "file_extension": ".py",
   "mimetype": "text/x-python",
   "name": "python",
   "nbconvert_exporter": "python",
   "pygments_lexer": "ipython3",
   "version": "3.7.6-final"
  },
  "orig_nbformat": 2,
  "kernelspec": {
   "name": "python37664bitstreevenva9e4a4efdc1042b6b577bd15fbe145ee",
   "display_name": "Python 3.7.6 64-bit ('stree': venv)"
  }
 },
 "nbformat": 4,
 "nbformat_minor": 2
}