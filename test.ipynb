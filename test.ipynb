{
 "cells": [
  {
   "cell_type": "code",
   "execution_count": 2,
   "metadata": {},
   "outputs": [
    {
     "output_type": "stream",
     "name": "stdout",
     "text": "Fraud: 0.173% 492\nValid: 99.827% 284315\nCPU times: user 2 µs, sys: 0 ns, total: 2 µs\nWall time: 5.96 µs\n"
    }
   ],
   "source": [
    "import numpy as np\n",
    "import pandas as pd\n",
    "from sklearn.svm import LinearSVC\n",
    "from sklearn.tree import DecisionTreeClassifier\n",
    "from sklearn.datasets import make_classification, load_iris, load_wine\n",
    "from trees.Stree import Stree\n",
    "\n",
    "\n",
    "def load_creditcard(n_examples=0):\n",
    "    df = pd.read_csv('data/creditcard.csv')\n",
    "    print(\"Fraud: {0:.3f}% {1}\".format(df.Class[df.Class == 1].count()*100/df.shape[0], df.Class[df.Class == 1].count()))\n",
    "    print(\"Valid: {0:.3f}% {1}\".format(df.Class[df.Class == 0].count()*100/df.shape[0], df.Class[df.Class == 0].count()))\n",
    "    y = np.expand_dims(df.Class.values, axis=1)\n",
    "    X = df.drop(['Class', 'Time', 'Amount'], axis=1).values\n",
    "    #Xtrain, Xtest, ytrain, ytest = train_test_split(X, y, train_size=0.7, shuffle=True, random_state=random_state, stratify=y)\n",
    "    #return Xtrain, Xtest, ytrain, ytest\n",
    "    if n_examples > 0:\n",
    "        X = X[:n_examples, :]\n",
    "        y = y[:n_examples, :]\n",
    "    else:\n",
    "        if n_examples < 0:\n",
    "            Xt = X[(y == 1).ravel()]\n",
    "            yt = y[(y == 1).ravel()]\n",
    "            indices = random.sample(range(X.shape[0]), -1 * n_examples)\n",
    "            X = np.append(Xt, X[indices], axis=0)\n",
    "            y = np.append(yt, y[indices], axis=0)\n",
    "    print(\"X.shape\", X.shape, \" y.shape\", y.shape)\n",
    "    print(\"Fraud: {0:.3f}% {1}\".format(len(y[y == 1])*100/X.shape[0], len(y[y == 1])))\n",
    "    print(\"Valid: {0:.3f}% {1}\".format(len(y[y == 0])*100/X.shape[0], len(y[y == 0])))\n",
    "    return X, y\n",
    "\n",
    "random_state = 1\n",
    "\n",
    "# Datasets\n",
    "\n",
    "#X, y = make_classification(n_samples=1500, n_features=3, n_informative=3, \n",
    "#                    n_redundant=0, n_repeated=0, n_classes=2, n_clusters_per_class=2,\n",
    "#                    class_sep=1.5, flip_y=0,weights=[0.5,0.5], random_state=random_state)\n",
    "\n",
    "#X, y = load_wine(return_X_y=True)\n",
    "#X, y = load_iris(return_X_y=True)\n",
    "\n",
    "X, y = load_creditcard(23000)\n",
    "%time"
   ]
  },
  {
   "cell_type": "code",
   "execution_count": 3,
   "metadata": {},
   "outputs": [
    {
     "output_type": "stream",
     "name": "stdout",
     "text": "CPU times: user 3 µs, sys: 0 ns, total: 3 µs\nWall time: 5.01 µs\nAccuracy: 0.999609\nroot\nroot - Down(array([0, 1]), array([24, 63]))\nroot - Down(array([0, 1]), array([24, 63])) - Down(array([0, 1]), array([ 1, 62]))\nroot - Down(array([0, 1]), array([24, 63])) - Down(array([0, 1]), array([ 1, 62])) - Down(array([0, 1]), array([ 1, 61])), classes=[0 1], items<0>=1, items<1>=61, <couldn't go any further> LEAF accuracy=0.98, belief=61.00 class=[1]\nroot - Down(array([0, 1]), array([24, 63])) - Down(array([0, 1]), array([ 1, 62])) - Up(array([1]), array([1])), class=[1], items=1, rest=0,  <pure>  LEAF accuracy=1.00, belief=1.00 class=[1]\nroot - Down(array([0, 1]), array([24, 63])) - Up(array([0, 1]), array([23,  1]))\nroot - Down(array([0, 1]), array([24, 63])) - Up(array([0, 1]), array([23,  1])) - Down(array([1]), array([1])), class=[1], items=1, rest=0,  <pure>  LEAF accuracy=1.00, belief=1.00 class=[1]\nroot - Down(array([0, 1]), array([24, 63])) - Up(array([0, 1]), array([23,  1])) - Up(array([0]), array([23])), class=[0], items=23, rest=0,  <pure>  LEAF accuracy=1.00, belief=1.00 class=[0]\nroot - Up(array([0, 1]), array([22890,    23]))\nroot - Up(array([0, 1]), array([22890,    23])) - Down(array([0, 1]), array([3, 8]))\nroot - Up(array([0, 1]), array([22890,    23])) - Down(array([0, 1]), array([3, 8])) - Down(array([1]), array([8])), class=[1], items=8, rest=0,  <pure>  LEAF accuracy=1.00, belief=1.00 class=[1]\nroot - Up(array([0, 1]), array([22890,    23])) - Down(array([0, 1]), array([3, 8])) - Up(array([0]), array([3])), class=[0], items=3, rest=0,  <pure>  LEAF accuracy=1.00, belief=1.00 class=[0]\nroot - Up(array([0, 1]), array([22890,    23])) - Up(array([0, 1]), array([22887,    15]))\nroot - Up(array([0, 1]), array([22890,    23])) - Up(array([0, 1]), array([22887,    15])) - Down(array([0, 1]), array([2, 2]))\nroot - Up(array([0, 1]), array([22890,    23])) - Up(array([0, 1]), array([22887,    15])) - Down(array([0, 1]), array([2, 2])) - Down(array([1]), array([2])), class=[1], items=2, rest=0,  <pure>  LEAF accuracy=1.00, belief=1.00 class=[1]\nroot - Up(array([0, 1]), array([22890,    23])) - Up(array([0, 1]), array([22887,    15])) - Down(array([0, 1]), array([2, 2])) - Up(array([0]), array([2])), class=[0], items=2, rest=0,  <pure>  LEAF accuracy=1.00, belief=1.00 class=[0]\nroot - Up(array([0, 1]), array([22890,    23])) - Up(array([0, 1]), array([22887,    15])) - Up(array([0, 1]), array([22885,    13]))\nroot - Up(array([0, 1]), array([22890,    23])) - Up(array([0, 1]), array([22887,    15])) - Up(array([0, 1]), array([22885,    13])) - Down(array([0, 1]), array([1, 4]))\nroot - Up(array([0, 1]), array([22890,    23])) - Up(array([0, 1]), array([22887,    15])) - Up(array([0, 1]), array([22885,    13])) - Down(array([0, 1]), array([1, 4])) - Down(array([1]), array([4])), class=[1], items=4, rest=0,  <pure>  LEAF accuracy=1.00, belief=1.00 class=[1]\nroot - Up(array([0, 1]), array([22890,    23])) - Up(array([0, 1]), array([22887,    15])) - Up(array([0, 1]), array([22885,    13])) - Down(array([0, 1]), array([1, 4])) - Up(array([0]), array([1])), class=[0], items=1, rest=0,  <pure>  LEAF accuracy=1.00, belief=1.00 class=[0]\nroot - Up(array([0, 1]), array([22890,    23])) - Up(array([0, 1]), array([22887,    15])) - Up(array([0, 1]), array([22885,    13])) - Up(array([0, 1]), array([22884,     9]))\nroot - Up(array([0, 1]), array([22890,    23])) - Up(array([0, 1]), array([22887,    15])) - Up(array([0, 1]), array([22885,    13])) - Up(array([0, 1]), array([22884,     9])) - Down(array([1]), array([1])), class=[1], items=1, rest=0,  <pure>  LEAF accuracy=1.00, belief=1.00 class=[1]\nroot - Up(array([0, 1]), array([22890,    23])) - Up(array([0, 1]), array([22887,    15])) - Up(array([0, 1]), array([22885,    13])) - Up(array([0, 1]), array([22884,     9])) - Up(array([0, 1]), array([22884,     8])), classes=[0 1], items<0>=22884, items<1>=8, <couldn't go any further> LEAF accuracy=1.00, belief=2860.50 class=[0]\n\n"
    }
   ],
   "source": [
    "%time\n",
    "clf = Stree(random_state=random_state, use_predictions=False)\n",
    "clf.fit(X, y)\n",
    "clf.score(X, y)\n",
    "print(clf)"
   ]
  },
  {
   "cell_type": "code",
   "execution_count": 4,
   "metadata": {},
   "outputs": [
    {
     "output_type": "stream",
     "name": "stdout",
     "text": "CPU times: user 4 µs, sys: 5 µs, total: 9 µs\nWall time: 12.2 µs\n"
    },
    {
     "output_type": "execute_result",
     "data": {
      "text/plain": "0.9979565217391304"
     },
     "metadata": {},
     "execution_count": 4
    }
   ],
   "source": [
    "%time\n",
    "clf2 = LinearSVC(random_state=random_state)\n",
    "clf2.fit(X, y)\n",
    "clf2.score(X, y)"
   ]
  },
  {
   "cell_type": "code",
   "execution_count": 5,
   "metadata": {},
   "outputs": [
    {
     "output_type": "stream",
     "name": "stdout",
     "text": "CPU times: user 13 µs, sys: 5 µs, total: 18 µs\nWall time: 7.87 µs\n"
    },
    {
     "output_type": "execute_result",
     "data": {
      "text/plain": "1.0"
     },
     "metadata": {},
     "execution_count": 5
    }
   ],
   "source": [
    "%time\n",
    "clf3 = DecisionTreeClassifier(random_state=random_state)\n",
    "clf3.fit(X, y)\n",
    "clf3.score(X, y)"
   ]
  },
  {
   "cell_type": "code",
   "execution_count": 6,
   "metadata": {},
   "outputs": [
    {
     "output_type": "stream",
     "name": "stdout",
     "text": "root\nroot - Down(array([0, 1]), array([24, 63]))\nroot - Down(array([0, 1]), array([24, 63])) - Down(array([0, 1]), array([ 1, 62]))\nroot - Down(array([0, 1]), array([24, 63])) - Down(array([0, 1]), array([ 1, 62])) - Down(array([0, 1]), array([ 1, 61])), classes=[0 1], items<0>=1, items<1>=61, <couldn't go any further> LEAF accuracy=0.98, belief=61.00 class=[1]\nroot - Down(array([0, 1]), array([24, 63])) - Down(array([0, 1]), array([ 1, 62])) - Up(array([1]), array([1])), class=[1], items=1, rest=0,  <pure>  LEAF accuracy=1.00, belief=1.00 class=[1]\nroot - Down(array([0, 1]), array([24, 63])) - Up(array([0, 1]), array([23,  1]))\nroot - Down(array([0, 1]), array([24, 63])) - Up(array([0, 1]), array([23,  1])) - Down(array([1]), array([1])), class=[1], items=1, rest=0,  <pure>  LEAF accuracy=1.00, belief=1.00 class=[1]\nroot - Down(array([0, 1]), array([24, 63])) - Up(array([0, 1]), array([23,  1])) - Up(array([0]), array([23])), class=[0], items=23, rest=0,  <pure>  LEAF accuracy=1.00, belief=1.00 class=[0]\nroot - Up(array([0, 1]), array([22890,    23]))\nroot - Up(array([0, 1]), array([22890,    23])) - Down(array([0, 1]), array([3, 8]))\nroot - Up(array([0, 1]), array([22890,    23])) - Down(array([0, 1]), array([3, 8])) - Down(array([1]), array([8])), class=[1], items=8, rest=0,  <pure>  LEAF accuracy=1.00, belief=1.00 class=[1]\nroot - Up(array([0, 1]), array([22890,    23])) - Down(array([0, 1]), array([3, 8])) - Up(array([0]), array([3])), class=[0], items=3, rest=0,  <pure>  LEAF accuracy=1.00, belief=1.00 class=[0]\nroot - Up(array([0, 1]), array([22890,    23])) - Up(array([0, 1]), array([22887,    15]))\nroot - Up(array([0, 1]), array([22890,    23])) - Up(array([0, 1]), array([22887,    15])) - Down(array([0, 1]), array([2, 2]))\nroot - Up(array([0, 1]), array([22890,    23])) - Up(array([0, 1]), array([22887,    15])) - Down(array([0, 1]), array([2, 2])) - Down(array([1]), array([2])), class=[1], items=2, rest=0,  <pure>  LEAF accuracy=1.00, belief=1.00 class=[1]\nroot - Up(array([0, 1]), array([22890,    23])) - Up(array([0, 1]), array([22887,    15])) - Down(array([0, 1]), array([2, 2])) - Up(array([0]), array([2])), class=[0], items=2, rest=0,  <pure>  LEAF accuracy=1.00, belief=1.00 class=[0]\nroot - Up(array([0, 1]), array([22890,    23])) - Up(array([0, 1]), array([22887,    15])) - Up(array([0, 1]), array([22885,    13]))\nroot - Up(array([0, 1]), array([22890,    23])) - Up(array([0, 1]), array([22887,    15])) - Up(array([0, 1]), array([22885,    13])) - Down(array([0, 1]), array([1, 4]))\nroot - Up(array([0, 1]), array([22890,    23])) - Up(array([0, 1]), array([22887,    15])) - Up(array([0, 1]), array([22885,    13])) - Down(array([0, 1]), array([1, 4])) - Down(array([1]), array([4])), class=[1], items=4, rest=0,  <pure>  LEAF accuracy=1.00, belief=1.00 class=[1]\nroot - Up(array([0, 1]), array([22890,    23])) - Up(array([0, 1]), array([22887,    15])) - Up(array([0, 1]), array([22885,    13])) - Down(array([0, 1]), array([1, 4])) - Up(array([0]), array([1])), class=[0], items=1, rest=0,  <pure>  LEAF accuracy=1.00, belief=1.00 class=[0]\nroot - Up(array([0, 1]), array([22890,    23])) - Up(array([0, 1]), array([22887,    15])) - Up(array([0, 1]), array([22885,    13])) - Up(array([0, 1]), array([22884,     9]))\nroot - Up(array([0, 1]), array([22890,    23])) - Up(array([0, 1]), array([22887,    15])) - Up(array([0, 1]), array([22885,    13])) - Up(array([0, 1]), array([22884,     9])) - Down(array([1]), array([1])), class=[1], items=1, rest=0,  <pure>  LEAF accuracy=1.00, belief=1.00 class=[1]\nroot - Up(array([0, 1]), array([22890,    23])) - Up(array([0, 1]), array([22887,    15])) - Up(array([0, 1]), array([22885,    13])) - Up(array([0, 1]), array([22884,     9])) - Up(array([0, 1]), array([22884,     8])), classes=[0 1], items<0>=22884, items<1>=8, <couldn't go any further> LEAF accuracy=1.00, belief=2860.50 class=[0]\n\n"
    }
   ],
   "source": [
    "print(clf)"
   ]
  },
  {
   "cell_type": "code",
   "execution_count": 7,
   "metadata": {},
   "outputs": [
    {
     "output_type": "stream",
     "name": "stdout",
     "text": "22884 8\n"
    }
   ],
   "source": [
    "a=[22884,     8]\n",
    "b=max(a)\n",
    "c=min(a)\n",
    "print(b,c)"
   ]
  },
  {
   "cell_type": "code",
   "execution_count": 9,
   "metadata": {},
   "outputs": [
    {
     "output_type": "execute_result",
     "data": {
      "text/plain": "0.9996505329372707"
     },
     "metadata": {},
     "execution_count": 9
    }
   ],
   "source": [
    "b/(b+c)"
   ]
  },
  {
   "cell_type": "code",
   "execution_count": 10,
   "metadata": {},
   "outputs": [
    {
     "output_type": "execute_result",
     "data": {
      "text/plain": "(23000, 1)"
     },
     "metadata": {},
     "execution_count": 10
    }
   ],
   "source": [
    "y.shape"
   ]
  },
  {
   "cell_type": "code",
   "execution_count": 11,
   "metadata": {},
   "outputs": [],
   "source": [
    "k=y[:4,:]"
   ]
  },
  {
   "cell_type": "code",
   "execution_count": 15,
   "metadata": {},
   "outputs": [
    {
     "output_type": "execute_result",
     "data": {
      "text/plain": "(4, 1)"
     },
     "metadata": {},
     "execution_count": 15
    }
   ],
   "source": [
    "k.shape"
   ]
  },
  {
   "cell_type": "code",
   "execution_count": 17,
   "metadata": {},
   "outputs": [
    {
     "output_type": "execute_result",
     "data": {
      "text/plain": "(4,)"
     },
     "metadata": {},
     "execution_count": 17
    }
   ],
   "source": [
    "k.ravel().ravel().shape"
   ]
  },
  {
   "cell_type": "code",
   "execution_count": 20,
   "metadata": {},
   "outputs": [
    {
     "output_type": "execute_result",
     "data": {
      "text/plain": "array([[0],\n       [0]])"
     },
     "metadata": {},
     "execution_count": 20
    }
   ],
   "source": [
    "k[[True, False, True, False]]"
   ]
  },
  {
   "cell_type": "code",
   "execution_count": 21,
   "metadata": {},
   "outputs": [
    {
     "output_type": "execute_result",
     "data": {
      "text/plain": "(23000, 28)"
     },
     "metadata": {},
     "execution_count": 21
    }
   ],
   "source": [
    "X.shape"
   ]
  },
  {
   "cell_type": "code",
   "execution_count": 28,
   "metadata": {},
   "outputs": [],
   "source": [
    "k = X[(y==1).ravel()]"
   ]
  },
  {
   "cell_type": "code",
   "execution_count": 29,
   "metadata": {},
   "outputs": [
    {
     "output_type": "execute_result",
     "data": {
      "text/plain": "(86, 28)"
     },
     "metadata": {},
     "execution_count": 29
    }
   ],
   "source": [
    "k.shape"
   ]
  },
  {
   "cell_type": "code",
   "execution_count": 36,
   "metadata": {},
   "outputs": [],
   "source": [
    "indices = np.random.random_integers(0, X.shape[0], 2000)"
   ]
  },
  {
   "cell_type": "code",
   "execution_count": 39,
   "metadata": {},
   "outputs": [
    {
     "output_type": "execute_result",
     "data": {
      "text/plain": "(2000, 28)"
     },
     "metadata": {},
     "execution_count": 39
    }
   ],
   "source": [
    "X[indices].shape"
   ]
  },
  {
   "cell_type": "code",
   "execution_count": 42,
   "metadata": {},
   "outputs": [],
   "source": [
    "import random\n",
    "k=random.shuffle(X)"
   ]
  },
  {
   "cell_type": "code",
   "execution_count": 43,
   "metadata": {},
   "outputs": [],
   "source": [
    "k"
   ]
  },
  {
   "cell_type": "code",
   "execution_count": 45,
   "metadata": {},
   "outputs": [
    {
     "output_type": "execute_result",
     "data": {
      "text/plain": "[4, 9, 8, 6, 5, 1]"
     },
     "metadata": {},
     "execution_count": 45
    }
   ],
   "source": [
    "random.sample(range(10), 6)"
   ]
  },
  {
   "cell_type": "code",
   "execution_count": null,
   "metadata": {},
   "outputs": [],
   "source": []
  }
 ],
 "metadata": {
  "language_info": {
   "codemirror_mode": {
    "name": "ipython",
    "version": 3
   },
   "file_extension": ".py",
   "mimetype": "text/x-python",
   "name": "python",
   "nbconvert_exporter": "python",
   "pygments_lexer": "ipython3",
   "version": "3.7.6-final"
  },
  "orig_nbformat": 2,
  "kernelspec": {
   "name": "python37664bitgeneralvenvfbd0a23e74cf4e778460f5ffc6761f39",
   "display_name": "Python 3.7.6 64-bit ('general': venv)"
  }
 },
 "nbformat": 4,
 "nbformat_minor": 2
}