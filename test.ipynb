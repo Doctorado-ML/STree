{
 "cells": [
  {
   "cell_type": "code",
   "execution_count": 1,
   "metadata": {},
   "outputs": [],
   "source": [
    "import numpy as np \n",
    "from sklearn.svm import LinearSVC\n",
    "from sklearn.datasets import make_classification\n",
    "from trees.Stree import Stree\n",
    "\n",
    "random_state = 1\n",
    "X, y = make_classification(n_samples=1500, n_features=3, n_informative=3, \n",
    "                    n_redundant=0, n_repeated=0, n_classes=2, n_clusters_per_class=2,\n",
    "                    class_sep=1.5, flip_y=0,weights=[0.5,0.5], random_state=random_state)"
   ]
  },
  {
   "cell_type": "code",
   "execution_count": 2,
   "metadata": {},
   "outputs": [
    {
     "output_type": "stream",
     "name": "stdout",
     "text": "Accuracy: 0.950667\n"
    }
   ],
   "source": [
    "clf = Stree(random_state=random_state, use_predictions=False)\n",
    "clf.fit(X, y)\n",
    "accuracy = clf.score(X, y)"
   ]
  }
 ],
 "metadata": {
  "language_info": {
   "codemirror_mode": {
    "name": "ipython",
    "version": 3
   },
   "file_extension": ".py",
   "mimetype": "text/x-python",
   "name": "python",
   "nbconvert_exporter": "python",
   "pygments_lexer": "ipython3",
   "version": "3.7.6-final"
  },
  "orig_nbformat": 2,
  "kernelspec": {
   "name": "python37664bitgeneralvenvfbd0a23e74cf4e778460f5ffc6761f39",
   "display_name": "Python 3.7.6 64-bit ('general': venv)"
  }
 },
 "nbformat": 4,
 "nbformat_minor": 2
}